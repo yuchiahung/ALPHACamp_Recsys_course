{
  "cells": [
    {
      "cell_type": "markdown",
      "metadata": {
        "id": "view-in-github",
        "colab_type": "text"
      },
      "source": [
        "<a href=\"https://colab.research.google.com/github/yuchiahung/data-course-sample/blob/main/AC_hw3_MF.ipynb\" target=\"_parent\"><img src=\"https://colab.research.google.com/assets/colab-badge.svg\" alt=\"Open In Colab\"/></a>"
      ]
    },
    {
      "cell_type": "markdown",
      "metadata": {
        "id": "y1eMqfGDzA4o"
      },
      "source": [
        "# Week3 -- Matrix Factorization (2022/01/03)"
      ]
    },
    {
      "cell_type": "markdown",
      "metadata": {
        "id": "XwzFMGRBzA4r"
      },
      "source": [
        "## 基礎建設"
      ]
    },
    {
      "cell_type": "code",
      "execution_count": 2,
      "metadata": {
        "id": "SlImO7n5zA4r",
        "scrolled": true
      },
      "outputs": [],
      "source": [
        "import pandas as pd\n",
        "import gzip, json\n",
        "\n",
        "def parse(path):\n",
        "    g = gzip.open(path, 'rb')\n",
        "    for l in g:\n",
        "        yield json.loads(l)\n",
        "\n",
        "def getDF(path):\n",
        "    i = 0\n",
        "    df = {}\n",
        "    for d in parse(path):\n",
        "        df[i] = d\n",
        "        i += 1\n",
        "    return pd.DataFrame.from_dict(df, orient='index')"
      ]
    },
    {
      "cell_type": "code",
      "execution_count": 3,
      "metadata": {
        "id": "ldCrsbIo1fK9"
      },
      "outputs": [],
      "source": [
        "import numpy as np\n",
        "import re\n",
        "# from sklearn.feature_extraction.text import TfidfVectorizer\n",
        "# from sklearn.metrics.pairwise import cosine_similarity, euclidean_distances"
      ]
    },
    {
      "cell_type": "code",
      "execution_count": 4,
      "metadata": {
        "id": "Ri_bkHM8qe05"
      },
      "outputs": [],
      "source": [
        "# from tqdm import tqdm"
      ]
    },
    {
      "cell_type": "code",
      "execution_count": 5,
      "metadata": {
        "id": "FwPtM8wRqcUH"
      },
      "outputs": [],
      "source": [
        "import matplotlib.pyplot as plt\n",
        "import seaborn as sns\n",
        "sns.set_style('whitegrid')"
      ]
    },
    {
      "cell_type": "markdown",
      "metadata": {
        "id": "h-OriwsYzA4u"
      },
      "source": [
        "## 載入資料"
      ]
    },
    {
      "cell_type": "code",
      "execution_count": 6,
      "metadata": {
        "colab": {
          "base_uri": "https://localhost:8080/"
        },
        "id": "ggCi_9VazA4u",
        "outputId": "af912178-2e04-4265-e4c6-b767dfacab77"
      },
      "outputs": [
        {
          "output_type": "stream",
          "name": "stdout",
          "text": [
            "--2022-01-08 16:09:32--  http://deepyeti.ucsd.edu/jianmo/amazon/categoryFilesSmall/All_Beauty.csv\n",
            "Resolving deepyeti.ucsd.edu (deepyeti.ucsd.edu)... 169.228.63.50\n",
            "Connecting to deepyeti.ucsd.edu (deepyeti.ucsd.edu)|169.228.63.50|:80... connected.\n",
            "HTTP request sent, awaiting response... 200 OK\n",
            "Length: 15499476 (15M) [application/octet-stream]\n",
            "Saving to: ‘All_Beauty.csv.3’\n",
            "\n",
            "All_Beauty.csv.3    100%[===================>]  14.78M  21.2MB/s    in 0.7s    \n",
            "\n",
            "2022-01-08 16:09:33 (21.2 MB/s) - ‘All_Beauty.csv.3’ saved [15499476/15499476]\n",
            "\n",
            "--2022-01-08 16:09:33--  http://deepyeti.ucsd.edu/jianmo/amazon/metaFiles2/meta_All_Beauty.json.gz\n",
            "Resolving deepyeti.ucsd.edu (deepyeti.ucsd.edu)... 169.228.63.50\n",
            "Connecting to deepyeti.ucsd.edu (deepyeti.ucsd.edu)|169.228.63.50|:80... connected.\n",
            "HTTP request sent, awaiting response... 200 OK\n",
            "Length: 10329961 (9.9M) [application/octet-stream]\n",
            "Saving to: ‘meta_All_Beauty.json.gz.2’\n",
            "\n",
            "meta_All_Beauty.jso 100%[===================>]   9.85M  16.8MB/s    in 0.6s    \n",
            "\n",
            "2022-01-08 16:09:34 (16.8 MB/s) - ‘meta_All_Beauty.json.gz.2’ saved [10329961/10329961]\n",
            "\n"
          ]
        }
      ],
      "source": [
        "!wget http://deepyeti.ucsd.edu/jianmo/amazon/categoryFilesSmall/All_Beauty.csv\n",
        "!wget http://deepyeti.ucsd.edu/jianmo/amazon/metaFiles2/meta_All_Beauty.json.gz"
      ]
    },
    {
      "cell_type": "code",
      "execution_count": 7,
      "metadata": {
        "id": "ItObn0vgzA4v"
      },
      "outputs": [],
      "source": [
        "metadata = getDF('/content/meta_All_Beauty.json.gz')\n",
        "ratings = pd.read_csv('/content/All_Beauty.csv', names=['asin', 'reviewerID', 'overall', 'unixReviewTime'], header=None)"
      ]
    },
    {
      "cell_type": "code",
      "execution_count": 8,
      "metadata": {
        "colab": {
          "base_uri": "https://localhost:8080/"
        },
        "id": "by54L2fwoKQx",
        "outputId": "4415fa7f-c445-4d73-a14c-d89ec50fb98d"
      },
      "outputs": [
        {
          "output_type": "execute_result",
          "data": {
            "text/plain": [
              "((32892, 19), (371345, 4))"
            ]
          },
          "metadata": {},
          "execution_count": 8
        }
      ],
      "source": [
        "metadata.shape, ratings.shape"
      ]
    },
    {
      "cell_type": "code",
      "execution_count": 9,
      "metadata": {
        "colab": {
          "base_uri": "https://localhost:8080/",
          "height": 0
        },
        "id": "x2C00dOwzA4w",
        "outputId": "cd41ba19-83aa-4235-9af2-fc81b039db83"
      },
      "outputs": [
        {
          "output_type": "execute_result",
          "data": {
            "text/html": [
              "\n",
              "  <div id=\"df-3905b92f-8339-4334-800b-b58f4ae73f38\">\n",
              "    <div class=\"colab-df-container\">\n",
              "      <div>\n",
              "<style scoped>\n",
              "    .dataframe tbody tr th:only-of-type {\n",
              "        vertical-align: middle;\n",
              "    }\n",
              "\n",
              "    .dataframe tbody tr th {\n",
              "        vertical-align: top;\n",
              "    }\n",
              "\n",
              "    .dataframe thead th {\n",
              "        text-align: right;\n",
              "    }\n",
              "</style>\n",
              "<table border=\"1\" class=\"dataframe\">\n",
              "  <thead>\n",
              "    <tr style=\"text-align: right;\">\n",
              "      <th></th>\n",
              "      <th>asin</th>\n",
              "      <th>reviewerID</th>\n",
              "      <th>overall</th>\n",
              "      <th>unixReviewTime</th>\n",
              "    </tr>\n",
              "  </thead>\n",
              "  <tbody>\n",
              "    <tr>\n",
              "      <th>0</th>\n",
              "      <td>0143026860</td>\n",
              "      <td>A1V6B6TNIC10QE</td>\n",
              "      <td>1.0</td>\n",
              "      <td>1424304000</td>\n",
              "    </tr>\n",
              "    <tr>\n",
              "      <th>1</th>\n",
              "      <td>0143026860</td>\n",
              "      <td>A2F5GHSXFQ0W6J</td>\n",
              "      <td>4.0</td>\n",
              "      <td>1418860800</td>\n",
              "    </tr>\n",
              "    <tr>\n",
              "      <th>2</th>\n",
              "      <td>0143026860</td>\n",
              "      <td>A1572GUYS7DGSR</td>\n",
              "      <td>4.0</td>\n",
              "      <td>1407628800</td>\n",
              "    </tr>\n",
              "    <tr>\n",
              "      <th>3</th>\n",
              "      <td>0143026860</td>\n",
              "      <td>A1PSGLFK1NSVO</td>\n",
              "      <td>5.0</td>\n",
              "      <td>1362960000</td>\n",
              "    </tr>\n",
              "    <tr>\n",
              "      <th>4</th>\n",
              "      <td>0143026860</td>\n",
              "      <td>A6IKXKZMTKGSC</td>\n",
              "      <td>5.0</td>\n",
              "      <td>1324771200</td>\n",
              "    </tr>\n",
              "  </tbody>\n",
              "</table>\n",
              "</div>\n",
              "      <button class=\"colab-df-convert\" onclick=\"convertToInteractive('df-3905b92f-8339-4334-800b-b58f4ae73f38')\"\n",
              "              title=\"Convert this dataframe to an interactive table.\"\n",
              "              style=\"display:none;\">\n",
              "        \n",
              "  <svg xmlns=\"http://www.w3.org/2000/svg\" height=\"24px\"viewBox=\"0 0 24 24\"\n",
              "       width=\"24px\">\n",
              "    <path d=\"M0 0h24v24H0V0z\" fill=\"none\"/>\n",
              "    <path d=\"M18.56 5.44l.94 2.06.94-2.06 2.06-.94-2.06-.94-.94-2.06-.94 2.06-2.06.94zm-11 1L8.5 8.5l.94-2.06 2.06-.94-2.06-.94L8.5 2.5l-.94 2.06-2.06.94zm10 10l.94 2.06.94-2.06 2.06-.94-2.06-.94-.94-2.06-.94 2.06-2.06.94z\"/><path d=\"M17.41 7.96l-1.37-1.37c-.4-.4-.92-.59-1.43-.59-.52 0-1.04.2-1.43.59L10.3 9.45l-7.72 7.72c-.78.78-.78 2.05 0 2.83L4 21.41c.39.39.9.59 1.41.59.51 0 1.02-.2 1.41-.59l7.78-7.78 2.81-2.81c.8-.78.8-2.07 0-2.86zM5.41 20L4 18.59l7.72-7.72 1.47 1.35L5.41 20z\"/>\n",
              "  </svg>\n",
              "      </button>\n",
              "      \n",
              "  <style>\n",
              "    .colab-df-container {\n",
              "      display:flex;\n",
              "      flex-wrap:wrap;\n",
              "      gap: 12px;\n",
              "    }\n",
              "\n",
              "    .colab-df-convert {\n",
              "      background-color: #E8F0FE;\n",
              "      border: none;\n",
              "      border-radius: 50%;\n",
              "      cursor: pointer;\n",
              "      display: none;\n",
              "      fill: #1967D2;\n",
              "      height: 32px;\n",
              "      padding: 0 0 0 0;\n",
              "      width: 32px;\n",
              "    }\n",
              "\n",
              "    .colab-df-convert:hover {\n",
              "      background-color: #E2EBFA;\n",
              "      box-shadow: 0px 1px 2px rgba(60, 64, 67, 0.3), 0px 1px 3px 1px rgba(60, 64, 67, 0.15);\n",
              "      fill: #174EA6;\n",
              "    }\n",
              "\n",
              "    [theme=dark] .colab-df-convert {\n",
              "      background-color: #3B4455;\n",
              "      fill: #D2E3FC;\n",
              "    }\n",
              "\n",
              "    [theme=dark] .colab-df-convert:hover {\n",
              "      background-color: #434B5C;\n",
              "      box-shadow: 0px 1px 3px 1px rgba(0, 0, 0, 0.15);\n",
              "      filter: drop-shadow(0px 1px 2px rgba(0, 0, 0, 0.3));\n",
              "      fill: #FFFFFF;\n",
              "    }\n",
              "  </style>\n",
              "\n",
              "      <script>\n",
              "        const buttonEl =\n",
              "          document.querySelector('#df-3905b92f-8339-4334-800b-b58f4ae73f38 button.colab-df-convert');\n",
              "        buttonEl.style.display =\n",
              "          google.colab.kernel.accessAllowed ? 'block' : 'none';\n",
              "\n",
              "        async function convertToInteractive(key) {\n",
              "          const element = document.querySelector('#df-3905b92f-8339-4334-800b-b58f4ae73f38');\n",
              "          const dataTable =\n",
              "            await google.colab.kernel.invokeFunction('convertToInteractive',\n",
              "                                                     [key], {});\n",
              "          if (!dataTable) return;\n",
              "\n",
              "          const docLinkHtml = 'Like what you see? Visit the ' +\n",
              "            '<a target=\"_blank\" href=https://colab.research.google.com/notebooks/data_table.ipynb>data table notebook</a>'\n",
              "            + ' to learn more about interactive tables.';\n",
              "          element.innerHTML = '';\n",
              "          dataTable['output_type'] = 'display_data';\n",
              "          await google.colab.output.renderOutput(dataTable, element);\n",
              "          const docLink = document.createElement('div');\n",
              "          docLink.innerHTML = docLinkHtml;\n",
              "          element.appendChild(docLink);\n",
              "        }\n",
              "      </script>\n",
              "    </div>\n",
              "  </div>\n",
              "  "
            ],
            "text/plain": [
              "         asin      reviewerID  overall  unixReviewTime\n",
              "0  0143026860  A1V6B6TNIC10QE      1.0      1424304000\n",
              "1  0143026860  A2F5GHSXFQ0W6J      4.0      1418860800\n",
              "2  0143026860  A1572GUYS7DGSR      4.0      1407628800\n",
              "3  0143026860   A1PSGLFK1NSVO      5.0      1362960000\n",
              "4  0143026860   A6IKXKZMTKGSC      5.0      1324771200"
            ]
          },
          "metadata": {},
          "execution_count": 9
        }
      ],
      "source": [
        "ratings.head()"
      ]
    },
    {
      "cell_type": "markdown",
      "metadata": {
        "id": "Qu9hmAohzA4x"
      },
      "source": [
        "## 資料整理"
      ]
    },
    {
      "cell_type": "code",
      "execution_count": 10,
      "metadata": {
        "id": "F8mu5tRjzA4y"
      },
      "outputs": [],
      "source": [
        "ratings['DATE'] = pd.to_datetime(ratings['unixReviewTime'], unit='s')"
      ]
    },
    {
      "cell_type": "code",
      "source": [
        "# drop duplicates rows\n",
        "metadata_clean = metadata.loc[metadata.astype(str).drop_duplicates().index]\n",
        "# replace empty value as Nan\n",
        "metadata_clean.replace('', np.nan, inplace = True)\n",
        "# clean column `rank`\n",
        "metadata_clean['rank'] = metadata_clean['rank'].str.replace('&amp;', '&')\n",
        "metadata_clean['rank'].fillna('0', inplace = True)\n",
        "metadata_clean['rank_category'] = [re.search('in (.*) \\(', r).group(1) if r != '0' else None for r in metadata_clean['rank']]\n",
        "metadata_clean['rank_num'] = [re.search('(.*) in .*', r).group(1) if r != '0' else None for r in metadata_clean['rank']]\n",
        "metadata_clean['rank_num'] = metadata_clean['rank_num'].str.replace(',', '').astype(float)\n",
        "# excluding category != 'Beauty & Personal Care'\n",
        "metadata_clean = metadata_clean[metadata_clean.rank_category == 'Beauty & Personal Care']\n",
        "# convert `price` to float\n",
        "metadata_clean['price'].fillna('0', inplace = True)\n",
        "metadata_clean['price'] = [re.search('\\$(.*)', p).group(1) if re.search('\\$(.*)', p) != None else None for p in metadata_clean['price']]\n",
        "metadata_clean['price'] = metadata_clean['price'].str.replace(',', '').astype(float)\n",
        "# drop useless columns\n",
        "metadata_clean.drop(\n",
        "    ['category', 'tech1', 'fit', 'tech2', 'date', 'similar_item', 'feature', 'main_cat', 'rank'], \n",
        "    axis = 1, \n",
        "    inplace = True\n",
        ")"
      ],
      "metadata": {
        "id": "8XTJrAl1qXA4",
        "colab": {
          "base_uri": "https://localhost:8080/"
        },
        "outputId": "d9fa4199-4fdc-43a7-9591-309925948b59"
      },
      "execution_count": 11,
      "outputs": [
        {
          "output_type": "stream",
          "name": "stderr",
          "text": [
            "/usr/local/lib/python3.7/dist-packages/pandas/core/series.py:4536: SettingWithCopyWarning: \n",
            "A value is trying to be set on a copy of a slice from a DataFrame\n",
            "\n",
            "See the caveats in the documentation: https://pandas.pydata.org/pandas-docs/stable/user_guide/indexing.html#returning-a-view-versus-a-copy\n",
            "  downcast=downcast,\n"
          ]
        }
      ]
    },
    {
      "cell_type": "code",
      "source": [
        "### clean title & description\n",
        "# join description list as string\n",
        "metadata_clean['description'] = metadata_clean.description.apply(lambda x: ''.join(x))\n",
        "\n",
        "for c in ('title', 'description'):\n",
        "    # to lower case\n",
        "    metadata_clean[c] = metadata_clean[c].apply(lambda x: x.lower())\n",
        "    # replace &amp; as & \n",
        "    metadata_clean[c] = metadata_clean[c].str.replace('&amp;', '&')\n",
        "    # replace &quot; as \"\n",
        "    metadata_clean[c] = metadata_clean[c].str.replace('&quot;', '\"')\n",
        "\n",
        "# clean html tag in description\n",
        "metadata_clean['description_clean'] = metadata_clean.description.apply(lambda x: re.sub('<.*?>|\\\\n', '', x))\n",
        "\n",
        "# remove strings in () [] & model info (i.e. number with oz, ml, cm)\n",
        "metadata_clean['title_clean'] = metadata_clean.title.apply(lambda x: re.sub('\\-\\s.*?\\s\\-|\\(.*?\\)|\\[.*?\\]|\\d{1,3}\\.?\\d{0,2}\\s?(oz|z|ml|ea|g|cm|mm|fz|\\-?ounce|count|ct|\\\"|fl\\.? oz\\.?|fluid ounce|x|\\-?pac(k?)|\\-?piece|pc(s?)|inch)|\\d{1,2}\\'d{0,2}|x\\s?\\d{1,3}|(set|pack) of \\d{1,3}|colors may vary', '', x))\n",
        "metadata_clean['title_clean'] = metadata_clean.title_clean.apply(lambda x: re.sub('[^\\w\\s]', '', x))\n",
        "\n",
        "# title + description\n",
        "metadata_clean['title_description'] = metadata_clean['title_clean'] + metadata_clean['description_clean']\n",
        "\n",
        "# reset index\n",
        "metadata_clean.reset_index(drop = True, inplace = True)"
      ],
      "metadata": {
        "id": "fgAm3fpfpWxQ"
      },
      "execution_count": 12,
      "outputs": []
    },
    {
      "cell_type": "code",
      "source": [
        "### clean brand name\n",
        "metadata_clean['brand_clean'] = metadata_clean['brand'].apply(lambda x: str(x).lower())\n",
        "metadata_clean['brand_clean'] = metadata_clean.brand_clean.apply(lambda x: re.sub('[^\\w\\s]', '', str(x)))"
      ],
      "metadata": {
        "id": "x_rVGTsTXhXi"
      },
      "execution_count": 79,
      "outputs": []
    },
    {
      "cell_type": "code",
      "source": [
        "metadata_clean.brand.nunique(), metadata_clean.brand_clean.nunique()"
      ],
      "metadata": {
        "colab": {
          "base_uri": "https://localhost:8080/"
        },
        "id": "q7L_mxOwX9dF",
        "outputId": "9f5540ca-40bf-4cf3-aaef-addfa3722dbf"
      },
      "execution_count": 80,
      "outputs": [
        {
          "output_type": "execute_result",
          "data": {
            "text/plain": [
              "(7734, 7462)"
            ]
          },
          "metadata": {},
          "execution_count": 80
        }
      ]
    },
    {
      "cell_type": "markdown",
      "metadata": {
        "id": "q3iWEnLHzA4y"
      },
      "source": [
        "## 資料切分"
      ]
    },
    {
      "cell_type": "code",
      "execution_count": 15,
      "metadata": {
        "id": "27C4d_jYpSPZ"
      },
      "outputs": [],
      "source": [
        "# metadata_clean.to_csv('/content/metadata_clean.csv')\n",
        "# ratings.to_csv('/content/ratings.csv')"
      ]
    },
    {
      "cell_type": "code",
      "execution_count": 16,
      "metadata": {
        "id": "eDvbtgqKpWrK"
      },
      "outputs": [],
      "source": [
        "# metadata_clean = pd.read_csv('/content/metadata_clean.csv', index_col = 9)\n",
        "# ratings = pd.read_csv('/content/ratings.csv', index_col = 0)"
      ]
    },
    {
      "cell_type": "code",
      "execution_count": 17,
      "metadata": {
        "id": "jxE1z-dizA4y"
      },
      "outputs": [],
      "source": [
        "ratings_trainings = ratings[\n",
        "    (ratings['DATE'] < '2018-09-01')\n",
        "]\n",
        "ratings_testings = ratings[\n",
        "    (ratings['DATE'] >= '2018-09-01') & \n",
        "    (ratings['DATE'] <= '2018-09-30')\n",
        "]\n",
        "ratings_testings_by_user = ratings_testings.groupby('reviewerID').agg(list).reset_index()[['reviewerID', 'asin']].to_dict('records')\n",
        "ratings_testings_by_user = { rating['reviewerID']: rating['asin'] for rating in ratings_testings_by_user }\n",
        "users = list(ratings_testings_by_user.keys())"
      ]
    },
    {
      "cell_type": "code",
      "execution_count": 18,
      "metadata": {
        "colab": {
          "base_uri": "https://localhost:8080/"
        },
        "id": "ABc5sPY2oHo3",
        "outputId": "040bc7a5-a56a-4794-cd67-fcad3a0df5f3"
      },
      "outputs": [
        {
          "output_type": "execute_result",
          "data": {
            "text/plain": [
              "(370752, 5)"
            ]
          },
          "metadata": {},
          "execution_count": 18
        }
      ],
      "source": [
        "ratings_trainings.shape"
      ]
    },
    {
      "cell_type": "code",
      "execution_count": 19,
      "metadata": {
        "id": "ee763747"
      },
      "outputs": [],
      "source": [
        "def evaluate(ratings_testings_by_user={}, ratings_by_user={}, method=None):\n",
        "    '''\n",
        "    * ratings_testings_by_user: dict 真實被購買的商品資料（2018-09-01 以後資料）\n",
        "    * ratings_by_user: dict 利用訓練資料學習的推薦商品\n",
        "    * method: str\n",
        "    * score: float\n",
        "    '''\n",
        "    total = 0\n",
        "    for d in ratings_testings_by_user:\n",
        "        if d in ratings_by_user:\n",
        "            total += len(set(ratings_by_user[d]) & set(ratings_testings_by_user[d]))\n",
        "\n",
        "    score = total / len(ratings_testings)\n",
        "    return score"
      ]
    },
    {
      "cell_type": "markdown",
      "metadata": {
        "id": "Xxi55VnTuf_p"
      },
      "source": [
        "## Surprise: MF"
      ]
    },
    {
      "cell_type": "code",
      "execution_count": null,
      "metadata": {
        "colab": {
          "base_uri": "https://localhost:8080/"
        },
        "id": "5Wer3jKGrTdj",
        "outputId": "1d728576-7950-4dae-adab-aadb3d86d1b8"
      },
      "outputs": [
        {
          "name": "stdout",
          "output_type": "stream",
          "text": [
            "Collecting surprise\n",
            "  Downloading surprise-0.1-py2.py3-none-any.whl (1.8 kB)\n",
            "Collecting scikit-surprise\n",
            "  Downloading scikit-surprise-1.1.1.tar.gz (11.8 MB)\n",
            "\u001b[K     |████████████████████████████████| 11.8 MB 4.4 MB/s \n",
            "\u001b[?25hRequirement already satisfied: joblib>=0.11 in /usr/local/lib/python3.7/dist-packages (from scikit-surprise->surprise) (1.1.0)\n",
            "Requirement already satisfied: numpy>=1.11.2 in /usr/local/lib/python3.7/dist-packages (from scikit-surprise->surprise) (1.19.5)\n",
            "Requirement already satisfied: scipy>=1.0.0 in /usr/local/lib/python3.7/dist-packages (from scikit-surprise->surprise) (1.4.1)\n",
            "Requirement already satisfied: six>=1.10.0 in /usr/local/lib/python3.7/dist-packages (from scikit-surprise->surprise) (1.15.0)\n",
            "Building wheels for collected packages: scikit-surprise\n",
            "  Building wheel for scikit-surprise (setup.py) ... \u001b[?25l\u001b[?25hdone\n",
            "  Created wheel for scikit-surprise: filename=scikit_surprise-1.1.1-cp37-cp37m-linux_x86_64.whl size=1619419 sha256=37e7428e1d547dfc2c1e4cc24a739c71c9ac1eb3057a650de55a3450f34202dd\n",
            "  Stored in directory: /root/.cache/pip/wheels/76/44/74/b498c42be47b2406bd27994e16c5188e337c657025ab400c1c\n",
            "Successfully built scikit-surprise\n",
            "Installing collected packages: scikit-surprise, surprise\n",
            "Successfully installed scikit-surprise-1.1.1 surprise-0.1\n"
          ]
        }
      ],
      "source": [
        "!pip install surprise"
      ]
    },
    {
      "cell_type": "code",
      "execution_count": null,
      "metadata": {
        "id": "MH1P8h1eln7D"
      },
      "outputs": [],
      "source": [
        "from collections import defaultdict\n",
        "\n",
        "def get_top_n(predictions, n=10):\n",
        "\n",
        "    # 首先將預測資料對應到 user \n",
        "    top_n = defaultdict(list)\n",
        "    for uid, iid, true_r, est, _ in predictions:\n",
        "        top_n[uid].append((iid, est))\n",
        "\n",
        "    # 將預測值進行排序，並且選取最高的 n 個值回傳\n",
        "    for uid, user_ratings in top_n.items():\n",
        "        user_ratings.sort(key=lambda x: x[1], reverse=True)\n",
        "        top_n[uid] = user_ratings[:n]\n",
        "    return top_n\n",
        "\n",
        "def recommend_items(model, user, items_user_not_rated, ratings_mean, k):\n",
        "    \n",
        "    # 取出測試資料\n",
        "    user_recommend_data = [(user, item, ratings_mean) for item in items_user_not_rated]\n",
        "\n",
        "    # 預測\n",
        "    predictions = model.test(user_recommend_data)\n",
        "    top_n = get_top_n(predictions, n=k)\n",
        "    return [top[0] for top in top_n[user]]\n",
        "    "
      ]
    },
    {
      "cell_type": "code",
      "execution_count": null,
      "metadata": {
        "id": "Dvuo5ABjurXR"
      },
      "outputs": [],
      "source": [
        "from scipy.sparse import csr_matrix\n",
        "from surprise import Reader\n",
        "from surprise import Dataset\n",
        "from surprise import SVD, SVDpp\n",
        "from surprise import accuracy\n",
        "import numpy as np\n",
        "\n",
        "def recommender(training_data, users=[], k=10, model_name = SVD):\n",
        "    '''\n",
        "    * training_data: dataframe 輸入的訓練資料集（2018-09-01 以前資料）\n",
        "    * users: [] 需要被推薦的使用者\n",
        "    * k: int 每個使用者需要推薦的商品數\n",
        "    * recommendations: dict\n",
        "      {\n",
        "          使用者一： [推薦商品一, 推薦商品二, ...],\n",
        "          使用者二： [...], ...\n",
        "      }\n",
        "    '''\n",
        "    recommendations = {}\n",
        "    '''\n",
        "    mf-based, surprise\n",
        "    '''\n",
        "    \n",
        "    # 取出評分矩陣所需的訓練資料\n",
        "    training_data = training_data[[\"asin\",\"reviewerID\",\"overall\"]]\n",
        "    item_set_trainings = set(training_data[\"asin\"].to_list())\n",
        "\n",
        "    # 轉換訓練資料為套件需要的格式\n",
        "    reader = Reader(rating_scale = (min(training_data[\"overall\"]), max(training_data[\"overall\"])))\n",
        "    train_data = Dataset.load_from_df(training_data, reader).build_full_trainset()\n",
        "\n",
        "    # 訓練模型\n",
        "    model = model_name()\n",
        "    # model = SVD()\n",
        "    # model = SVDpp()\n",
        "    model.fit(train_data)\n",
        "\n",
        "    # 推薦\n",
        "    recommendations = {user: recommend_items(model, user, item_set_trainings - set(training_data.loc[training_data['reviewerID'] == user]['asin'].to_list()), training_data[[\"overall\"]].mean(), k) for user in users}\n",
        "    \n",
        "    return recommendations\n"
      ]
    },
    {
      "cell_type": "markdown",
      "metadata": {
        "id": "WOxH08ZIvFWN"
      },
      "source": [
        "### SVD"
      ]
    },
    {
      "cell_type": "code",
      "execution_count": null,
      "metadata": {
        "colab": {
          "base_uri": "https://localhost:8080/"
        },
        "id": "V4kd9nNVuuBI",
        "outputId": "aea5a782-4c4d-4ea3-a3cf-2ccfd19be9c8"
      },
      "outputs": [
        {
          "name": "stdout",
          "output_type": "stream",
          "text": [
            "CPU times: user 4min, sys: 738 ms, total: 4min 1s\n",
            "Wall time: 4min 1s\n"
          ]
        }
      ],
      "source": [
        "%%time\n",
        "# 推薦成果：可看出冷啟動問題嚴重，針對未曾出現的使用者無法有鑑別的個別推薦，實務上可能會主動請使用者先評分再訓練進行推薦\n",
        "ratings_by_user = recommender(ratings_trainings, users)"
      ]
    },
    {
      "cell_type": "code",
      "execution_count": null,
      "metadata": {
        "colab": {
          "base_uri": "https://localhost:8080/"
        },
        "id": "L4eZxEiMuvhD",
        "outputId": "5342db73-b974-45de-f711-e771bcb1525d"
      },
      "outputs": [
        {
          "data": {
            "text/plain": [
              "0.0"
            ]
          },
          "execution_count": 34,
          "metadata": {},
          "output_type": "execute_result"
        }
      ],
      "source": [
        "print('Surprise - SVD score: ')\n",
        "evaluate(ratings_testings_by_user, ratings_by_user)"
      ]
    },
    {
      "cell_type": "markdown",
      "metadata": {
        "id": "UjuTsMqxvSzP"
      },
      "source": [
        "### SVDpp"
      ]
    },
    {
      "cell_type": "code",
      "execution_count": null,
      "metadata": {
        "colab": {
          "background_save": true
        },
        "id": "Qq1VYCUnvVXe",
        "outputId": "d04b3d3f-c47f-40f0-a803-8e6d16529168"
      },
      "outputs": [
        {
          "name": "stdout",
          "output_type": "stream",
          "text": [
            "CPU times: user 1h 10min 32s, sys: 9.33 s, total: 1h 10min 41s\n",
            "Wall time: 1h 10min 41s\n"
          ]
        }
      ],
      "source": [
        "%%time\n",
        "ratings_by_user_SVDpp = recommender(ratings_trainings, users, model_name = SVDpp)"
      ]
    },
    {
      "cell_type": "code",
      "execution_count": null,
      "metadata": {
        "colab": {
          "background_save": true
        },
        "id": "j7244NBEvdzG",
        "outputId": "bc420038-1734-4cf9-9959-17c360115f21"
      },
      "outputs": [
        {
          "name": "stdout",
          "output_type": "stream",
          "text": [
            "Surprise - SVDpp score: \n"
          ]
        },
        {
          "data": {
            "text/plain": [
              "0.0"
            ]
          },
          "execution_count": null,
          "metadata": {},
          "output_type": "execute_result"
        }
      ],
      "source": [
        "print('Surprise - SVDpp score: ')\n",
        "evaluate(ratings_testings_by_user, ratings_by_user_SVDpp)"
      ]
    },
    {
      "cell_type": "markdown",
      "metadata": {
        "id": "kbB0WHMhwSZR"
      },
      "source": [
        "### NMF"
      ]
    },
    {
      "cell_type": "code",
      "execution_count": null,
      "metadata": {
        "id": "rjGCjtgawc2r"
      },
      "outputs": [],
      "source": [
        "from surprise import NMF"
      ]
    },
    {
      "cell_type": "code",
      "execution_count": null,
      "metadata": {
        "colab": {
          "base_uri": "https://localhost:8080/"
        },
        "id": "z0XpT2JYwThF",
        "outputId": "a50b7d83-f229-47fa-950c-8c37f01435ef"
      },
      "outputs": [
        {
          "name": "stdout",
          "output_type": "stream",
          "text": [
            "CPU times: user 4min 35s, sys: 628 ms, total: 4min 35s\n",
            "Wall time: 4min 35s\n"
          ]
        }
      ],
      "source": [
        "%%time\n",
        "ratings_by_user_NMF = recommender(ratings_trainings, users, model_name = NMF)"
      ]
    },
    {
      "cell_type": "code",
      "execution_count": null,
      "metadata": {
        "colab": {
          "base_uri": "https://localhost:8080/"
        },
        "id": "CXXPs4p3wY8V",
        "outputId": "6b1c06d7-af75-4847-9202-9ff4caebad2b"
      },
      "outputs": [
        {
          "name": "stdout",
          "output_type": "stream",
          "text": [
            "Surprise - NMF score: \n"
          ]
        },
        {
          "data": {
            "text/plain": [
              "0.0"
            ]
          },
          "execution_count": 40,
          "metadata": {},
          "output_type": "execute_result"
        }
      ],
      "source": [
        "print('Surprise - NMF score: ')\n",
        "evaluate(ratings_testings_by_user, ratings_by_user_NMF)"
      ]
    },
    {
      "cell_type": "markdown",
      "metadata": {
        "id": "q5LIZITgu1Av"
      },
      "source": [
        "## LightFM: MF"
      ]
    },
    {
      "cell_type": "code",
      "execution_count": 20,
      "metadata": {
        "colab": {
          "base_uri": "https://localhost:8080/"
        },
        "id": "uaD-y_fru035",
        "outputId": "d337df49-94b2-434c-855b-4e847103fad8"
      },
      "outputs": [
        {
          "output_type": "stream",
          "name": "stdout",
          "text": [
            "Requirement already satisfied: lightfm in /usr/local/lib/python3.7/dist-packages (1.16)\n",
            "Requirement already satisfied: numpy in /usr/local/lib/python3.7/dist-packages (from lightfm) (1.19.5)\n",
            "Requirement already satisfied: scikit-learn in /usr/local/lib/python3.7/dist-packages (from lightfm) (1.0.1)\n",
            "Requirement already satisfied: scipy>=0.17.0 in /usr/local/lib/python3.7/dist-packages (from lightfm) (1.4.1)\n",
            "Requirement already satisfied: requests in /usr/local/lib/python3.7/dist-packages (from lightfm) (2.23.0)\n",
            "Requirement already satisfied: idna<3,>=2.5 in /usr/local/lib/python3.7/dist-packages (from requests->lightfm) (2.10)\n",
            "Requirement already satisfied: chardet<4,>=3.0.2 in /usr/local/lib/python3.7/dist-packages (from requests->lightfm) (3.0.4)\n",
            "Requirement already satisfied: certifi>=2017.4.17 in /usr/local/lib/python3.7/dist-packages (from requests->lightfm) (2021.10.8)\n",
            "Requirement already satisfied: urllib3!=1.25.0,!=1.25.1,<1.26,>=1.21.1 in /usr/local/lib/python3.7/dist-packages (from requests->lightfm) (1.24.3)\n",
            "Requirement already satisfied: threadpoolctl>=2.0.0 in /usr/local/lib/python3.7/dist-packages (from scikit-learn->lightfm) (3.0.0)\n",
            "Requirement already satisfied: joblib>=0.11 in /usr/local/lib/python3.7/dist-packages (from scikit-learn->lightfm) (1.1.0)\n"
          ]
        }
      ],
      "source": [
        "!pip install lightfm"
      ]
    },
    {
      "cell_type": "code",
      "execution_count": 21,
      "metadata": {
        "id": "F1UfuQyZu7sk"
      },
      "outputs": [],
      "source": [
        "from lightfm import LightFM\n",
        "import numpy as np\n",
        "\n",
        "def recommend_items(model, data, user_id, item_list, k):\n",
        "    \n",
        "    # 取得item數量\n",
        "    n_users, n_items = data.shape\n",
        "\n",
        "    # 預測user對所有item的評分並進行推薦\n",
        "    scores = model.predict(user_id, np.arange(n_items))\n",
        "    top_items = item_list[np.argsort(-scores)]\n",
        "    return top_items[:k].tolist()"
      ]
    },
    {
      "cell_type": "code",
      "execution_count": 91,
      "metadata": {
        "id": "GZoFbqtwu-9p"
      },
      "outputs": [],
      "source": [
        "from lightfm.data import Dataset\n",
        "\n",
        "def recommender_lightfm(training_data, users=[], k=10, item_metadata=None):\n",
        "    '''\n",
        "    * training_data: dataframe 輸入的訓練資料集（2018-09-01 以前資料）\n",
        "    * users: [] 需要被推薦的使用者\n",
        "    * k: int 每個使用者需要推薦的商品數\n",
        "    * recommendations: dict\n",
        "      {\n",
        "          使用者一： [推薦商品一, 推薦商品二, ...],\n",
        "          使用者二： [...], ...\n",
        "      }\n",
        "    '''\n",
        "    recommendations = {}\n",
        "    '''\n",
        "    mf-based, lightFM\n",
        "    '''\n",
        "    \n",
        "    # 取出評分矩陣所需的訓練資料並以lightfm的Dataset形式存取\n",
        "    training_data = training_data[[\"reviewerID\",\"asin\",\"overall\"]]\n",
        "    data = Dataset()\n",
        "    data.fit(np.append(training_data.reviewerID.unique(), users, 0), training_data.asin.unique())\n",
        "    # create a (num_users, num_items) COO matrix with interactions, and a (num_users, num_items) matrix with the corresponding interaction weights.\n",
        "    interactions_matrix, weights_matrix = data.build_interactions([tuple(i) for i in training_data.values])\n",
        "    if item_metadata is not None:\n",
        "        # Build a item features matrix out of an iterable of the form (item id, [list of feature names]) or (item id, {feature name: feature weight}).\n",
        "        for i in range(2, 6):\n",
        "            data.fit_partial(items=(x[1] for x in item_metadata.itertuples()),\n",
        "                            item_features=(x[i] for x in item_metadata.itertuples()))\n",
        "        item_features = data.build_item_features((\n",
        "            (x[1], list(x[2:]))\n",
        "            for x in item_metadata.itertuples()\n",
        "            ))\n",
        "\n",
        "    # 取得user與item的mapping資料\n",
        "    user_id_map, user_feature_map, item_id_map, item_feature_map = data.mapping()\n",
        "    item_list = np.array(list(item_id_map.keys())).astype(object)\n",
        "    \n",
        "    # 訓練模型\n",
        "    model = LightFM(loss='warp', item_alpha=1e-6, no_components=30)\n",
        "\n",
        "    if item_metadata is not None: # 訓練混合模型（Hybrid Model）加入 user / item feature\n",
        "        model = model.fit(interactions_matrix, sample_weight = weights_matrix, \n",
        "                          item_features=item_features, epochs=3, num_threads=2)\n",
        "    \n",
        "    else:\n",
        "        model = model.fit(interactions_matrix, sample_weight = weights_matrix, \n",
        "                          epochs=3, num_threads=2)\n",
        "\n",
        "    # 推薦\n",
        "    recommendations = {\n",
        "        user: recommend_items(model, interactions_matrix, user_id_map[user], item_list, k)\n",
        "        for user in users}\n",
        "\n",
        "    return recommendations\n"
      ]
    },
    {
      "cell_type": "code",
      "execution_count": 20,
      "metadata": {
        "id": "R7F_dvUwvDU0",
        "colab": {
          "base_uri": "https://localhost:8080/"
        },
        "outputId": "84901932-2302-480b-cf29-aea51f503bc3"
      },
      "outputs": [
        {
          "output_type": "stream",
          "name": "stdout",
          "text": [
            "CPU times: user 12.4 s, sys: 84.7 ms, total: 12.5 s\n",
            "Wall time: 10.3 s\n"
          ]
        }
      ],
      "source": [
        "%%time\n",
        "# 推薦成果：可看出冷啟動問題嚴重，針對未曾出現的使用者無法有鑑別的個別推薦，實務上可能會主動請使用者先評分再訓練進行推薦\n",
        "#         除此之外也能嘗試使用混合模型（Hybrid Model）加入user / item feature進行訓練\n",
        "ratings_by_user = recommender_lightfm(ratings_trainings, users)"
      ]
    },
    {
      "cell_type": "code",
      "execution_count": null,
      "metadata": {
        "id": "fzXdqhT_3eyW"
      },
      "outputs": [],
      "source": [
        "# ratings_by_user"
      ]
    },
    {
      "cell_type": "code",
      "execution_count": 21,
      "metadata": {
        "colab": {
          "base_uri": "https://localhost:8080/"
        },
        "id": "3Bv-jEdTvCJR",
        "outputId": "a0400f0f-249f-42c3-8615-0a170efff892"
      },
      "outputs": [
        {
          "output_type": "stream",
          "name": "stdout",
          "text": [
            "Sample LightFM MF score:\n"
          ]
        },
        {
          "output_type": "execute_result",
          "data": {
            "text/plain": [
              "0.08305084745762711"
            ]
          },
          "metadata": {},
          "execution_count": 21
        }
      ],
      "source": [
        "print('Sample LightFM MF score:')\n",
        "evaluate(ratings_testings_by_user, ratings_by_user)"
      ]
    },
    {
      "cell_type": "markdown",
      "source": [
        "### LightFM + item_features"
      ],
      "metadata": {
        "id": "1QYTsKDFStrh"
      }
    },
    {
      "cell_type": "code",
      "source": [
        "metadata_clean['price_cat'] = pd.qcut(metadata_clean.price, 5, labels=False).fillna(2)\n",
        "metadata_clean['rank_num_cat'] = pd.qcut(metadata_clean.rank_num, 5, labels=False).fillna(2)\n",
        "item_metadata_clean = metadata_clean[['asin', 'price_cat', 'brand_clean', 'rank_num_cat', 'title_clean']]"
      ],
      "metadata": {
        "id": "6Yar2rb0Z88O"
      },
      "execution_count": 69,
      "outputs": []
    },
    {
      "cell_type": "code",
      "source": [
        "%%time\n",
        "ratings_by_user = recommender_lightfm(ratings_trainings, users, item_metadata=item_metadata_clean)"
      ],
      "metadata": {
        "colab": {
          "base_uri": "https://localhost:8080/"
        },
        "id": "gUxLIG7WiZYz",
        "outputId": "331eb2fd-8573-4483-ab12-8acbedbe47e6"
      },
      "execution_count": 75,
      "outputs": [
        {
          "output_type": "stream",
          "name": "stdout",
          "text": [
            "CPU times: user 19.2 s, sys: 88.2 ms, total: 19.3 s\n",
            "Wall time: 14.2 s\n"
          ]
        }
      ]
    },
    {
      "cell_type": "code",
      "source": [
        "print('LightFM MF + item_features score:')\n",
        "evaluate(ratings_testings_by_user, ratings_by_user)"
      ],
      "metadata": {
        "colab": {
          "base_uri": "https://localhost:8080/"
        },
        "id": "ivPpPRrGgqYw",
        "outputId": "3497b13f-9e64-4afd-8c5c-150bbc255373"
      },
      "execution_count": 76,
      "outputs": [
        {
          "output_type": "stream",
          "name": "stdout",
          "text": [
            "LightFM MF + item_features score:\n"
          ]
        },
        {
          "output_type": "execute_result",
          "data": {
            "text/plain": [
              "0.08305084745762711"
            ]
          },
          "metadata": {},
          "execution_count": 76
        }
      ]
    },
    {
      "cell_type": "code",
      "source": [
        ""
      ],
      "metadata": {
        "id": "v7Xdr0znjz1P"
      },
      "execution_count": null,
      "outputs": []
    }
  ],
  "metadata": {
    "colab": {
      "collapsed_sections": [
        "XwzFMGRBzA4r",
        "h-OriwsYzA4u"
      ],
      "name": "AC_hw3_MF.ipynb",
      "provenance": [],
      "toc_visible": true,
      "authorship_tag": "ABX9TyOG0aJz4FvpsDxkva9uOcJ1",
      "include_colab_link": true
    },
    "kernelspec": {
      "display_name": "Python 3",
      "name": "python3"
    },
    "language_info": {
      "name": "python"
    }
  },
  "nbformat": 4,
  "nbformat_minor": 0
}