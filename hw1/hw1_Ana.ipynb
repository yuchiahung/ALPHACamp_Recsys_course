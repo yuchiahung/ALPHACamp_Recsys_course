{
  "cells": [
    {
      "cell_type": "markdown",
      "metadata": {
        "id": "y1eMqfGDzA4o"
      },
      "source": [
        "# Week1"
      ],
      "id": "y1eMqfGDzA4o"
    },
    {
      "cell_type": "markdown",
      "metadata": {
        "id": "XwzFMGRBzA4r"
      },
      "source": [
        "## 基礎建設"
      ],
      "id": "XwzFMGRBzA4r"
    },
    {
      "cell_type": "code",
      "execution_count": 2,
      "metadata": {
        "scrolled": true,
        "id": "SlImO7n5zA4r"
      },
      "outputs": [],
      "source": [
        "import pandas as pd\n",
        "import gzip, json\n",
        "\n",
        "def parse(path):\n",
        "    g = gzip.open(path, 'rb')\n",
        "    for l in g:\n",
        "        yield json.loads(l)\n",
        "\n",
        "def getDF(path):\n",
        "    i = 0\n",
        "    df = {}\n",
        "    for d in parse(path):\n",
        "        df[i] = d\n",
        "        i += 1\n",
        "    return pd.DataFrame.from_dict(df, orient='index')"
      ],
      "id": "SlImO7n5zA4r"
    },
    {
      "cell_type": "code",
      "source": [
        "import matplotlib.pyplot as plt\n",
        "import seaborn as sns\n",
        "import numpy as np\n",
        "import re\n",
        "import datetime"
      ],
      "metadata": {
        "id": "ldCrsbIo1fK9"
      },
      "execution_count": 1,
      "outputs": [],
      "id": "ldCrsbIo1fK9"
    },
    {
      "cell_type": "code",
      "source": [
        "sns.set_style(\"whitegrid\")"
      ],
      "metadata": {
        "id": "y-gzgbDCcoqx"
      },
      "execution_count": 3,
      "outputs": [],
      "id": "y-gzgbDCcoqx"
    },
    {
      "cell_type": "markdown",
      "metadata": {
        "id": "h-OriwsYzA4u"
      },
      "source": [
        "## 載入資料"
      ],
      "id": "h-OriwsYzA4u"
    },
    {
      "cell_type": "code",
      "execution_count": 4,
      "metadata": {
        "id": "ggCi_9VazA4u",
        "colab": {
          "base_uri": "https://localhost:8080/"
        },
        "outputId": "c4a79e28-0f28-4ca4-9dc5-cdc6721c735c"
      },
      "outputs": [
        {
          "output_type": "stream",
          "name": "stdout",
          "text": [
            "--2021-12-26 08:11:51--  http://deepyeti.ucsd.edu/jianmo/amazon/categoryFilesSmall/All_Beauty.csv\n",
            "Resolving deepyeti.ucsd.edu (deepyeti.ucsd.edu)... 169.228.63.50\n",
            "Connecting to deepyeti.ucsd.edu (deepyeti.ucsd.edu)|169.228.63.50|:80... connected.\n",
            "HTTP request sent, awaiting response... 200 OK\n",
            "Length: 15499476 (15M) [application/octet-stream]\n",
            "Saving to: ‘All_Beauty.csv’\n",
            "\n",
            "All_Beauty.csv      100%[===================>]  14.78M  20.0MB/s    in 0.7s    \n",
            "\n",
            "2021-12-26 08:11:52 (20.0 MB/s) - ‘All_Beauty.csv’ saved [15499476/15499476]\n",
            "\n",
            "--2021-12-26 08:11:52--  http://deepyeti.ucsd.edu/jianmo/amazon/metaFiles2/meta_All_Beauty.json.gz\n",
            "Resolving deepyeti.ucsd.edu (deepyeti.ucsd.edu)... 169.228.63.50\n",
            "Connecting to deepyeti.ucsd.edu (deepyeti.ucsd.edu)|169.228.63.50|:80... connected.\n",
            "HTTP request sent, awaiting response... 200 OK\n",
            "Length: 10329961 (9.9M) [application/octet-stream]\n",
            "Saving to: ‘meta_All_Beauty.json.gz’\n",
            "\n",
            "meta_All_Beauty.jso 100%[===================>]   9.85M  15.1MB/s    in 0.7s    \n",
            "\n",
            "2021-12-26 08:11:53 (15.1 MB/s) - ‘meta_All_Beauty.json.gz’ saved [10329961/10329961]\n",
            "\n"
          ]
        }
      ],
      "source": [
        "!wget http://deepyeti.ucsd.edu/jianmo/amazon/categoryFilesSmall/All_Beauty.csv\n",
        "!wget http://deepyeti.ucsd.edu/jianmo/amazon/metaFiles2/meta_All_Beauty.json.gz"
      ],
      "id": "ggCi_9VazA4u"
    },
    {
      "cell_type": "code",
      "execution_count": 5,
      "metadata": {
        "id": "ItObn0vgzA4v"
      },
      "outputs": [],
      "source": [
        "metadata = getDF('/content/meta_All_Beauty.json.gz')\n",
        "ratings = pd.read_csv('/content/All_Beauty.csv', names=['asin', 'reviewerID', 'overall', 'unixReviewTime'], header=None)"
      ],
      "id": "ItObn0vgzA4v"
    },
    {
      "cell_type": "code",
      "source": [
        "metadata.shape, ratings.shape"
      ],
      "metadata": {
        "colab": {
          "base_uri": "https://localhost:8080/"
        },
        "id": "by54L2fwoKQx",
        "outputId": "2ccfc6cb-ac6a-4784-b1fa-40ccbdd757ad"
      },
      "execution_count": 6,
      "outputs": [
        {
          "output_type": "execute_result",
          "data": {
            "text/plain": [
              "((32892, 19), (371345, 4))"
            ]
          },
          "metadata": {},
          "execution_count": 6
        }
      ],
      "id": "by54L2fwoKQx"
    },
    {
      "cell_type": "code",
      "execution_count": 7,
      "metadata": {
        "id": "L_-yV-jZzA4v",
        "outputId": "5d286f88-94eb-43a1-cb9f-eebdfc759529",
        "colab": {
          "base_uri": "https://localhost:8080/",
          "height": 450
        }
      },
      "outputs": [
        {
          "output_type": "execute_result",
          "data": {
            "text/html": [
              "\n",
              "  <div id=\"df-e38224df-3ae1-4a42-a12b-6b2751e64540\">\n",
              "    <div class=\"colab-df-container\">\n",
              "      <div>\n",
              "<style scoped>\n",
              "    .dataframe tbody tr th:only-of-type {\n",
              "        vertical-align: middle;\n",
              "    }\n",
              "\n",
              "    .dataframe tbody tr th {\n",
              "        vertical-align: top;\n",
              "    }\n",
              "\n",
              "    .dataframe thead th {\n",
              "        text-align: right;\n",
              "    }\n",
              "</style>\n",
              "<table border=\"1\" class=\"dataframe\">\n",
              "  <thead>\n",
              "    <tr style=\"text-align: right;\">\n",
              "      <th></th>\n",
              "      <th>category</th>\n",
              "      <th>tech1</th>\n",
              "      <th>description</th>\n",
              "      <th>fit</th>\n",
              "      <th>title</th>\n",
              "      <th>also_buy</th>\n",
              "      <th>tech2</th>\n",
              "      <th>brand</th>\n",
              "      <th>feature</th>\n",
              "      <th>rank</th>\n",
              "      <th>also_view</th>\n",
              "      <th>details</th>\n",
              "      <th>main_cat</th>\n",
              "      <th>similar_item</th>\n",
              "      <th>date</th>\n",
              "      <th>price</th>\n",
              "      <th>asin</th>\n",
              "      <th>imageURL</th>\n",
              "      <th>imageURLHighRes</th>\n",
              "    </tr>\n",
              "  </thead>\n",
              "  <tbody>\n",
              "    <tr>\n",
              "      <th>0</th>\n",
              "      <td>[]</td>\n",
              "      <td></td>\n",
              "      <td>[Loud 'N Clear Personal Sound Amplifier allows...</td>\n",
              "      <td></td>\n",
              "      <td>Loud 'N Clear&amp;trade; Personal Sound Amplifier</td>\n",
              "      <td>[]</td>\n",
              "      <td></td>\n",
              "      <td>idea village</td>\n",
              "      <td>[]</td>\n",
              "      <td>2,938,573 in Beauty &amp; Personal Care (</td>\n",
              "      <td>[]</td>\n",
              "      <td>{'ASIN: ': '6546546450'}</td>\n",
              "      <td>All Beauty</td>\n",
              "      <td></td>\n",
              "      <td></td>\n",
              "      <td></td>\n",
              "      <td>6546546450</td>\n",
              "      <td>[]</td>\n",
              "      <td>[]</td>\n",
              "    </tr>\n",
              "    <tr>\n",
              "      <th>1</th>\n",
              "      <td>[]</td>\n",
              "      <td></td>\n",
              "      <td>[No7 Lift &amp; Luminate Triple Action Serum 50ml ...</td>\n",
              "      <td></td>\n",
              "      <td>No7 Lift &amp;amp; Luminate Triple Action Serum 50...</td>\n",
              "      <td>[B01E7LCSL6, B008X5RVME]</td>\n",
              "      <td></td>\n",
              "      <td></td>\n",
              "      <td>[]</td>\n",
              "      <td>872,854 in Beauty &amp; Personal Care (</td>\n",
              "      <td>[]</td>\n",
              "      <td>{'Shipping Weight:': '0.3 ounces (', 'ASIN: ':...</td>\n",
              "      <td>All Beauty</td>\n",
              "      <td>class=\"a-bordered a-horizontal-stripes  a-spa...</td>\n",
              "      <td></td>\n",
              "      <td>$44.99</td>\n",
              "      <td>7178680776</td>\n",
              "      <td>[]</td>\n",
              "      <td>[]</td>\n",
              "    </tr>\n",
              "    <tr>\n",
              "      <th>2</th>\n",
              "      <td>[]</td>\n",
              "      <td></td>\n",
              "      <td>[No7 Stay Perfect Foundation now stays perfect...</td>\n",
              "      <td></td>\n",
              "      <td>No7 Stay Perfect Foundation Cool Vanilla by No7</td>\n",
              "      <td>[]</td>\n",
              "      <td></td>\n",
              "      <td>No7</td>\n",
              "      <td>[]</td>\n",
              "      <td>956,696 in Beauty &amp; Personal Care (</td>\n",
              "      <td>[B01B8BR0O8, B01B8BR0NO, B014MHXXM8]</td>\n",
              "      <td>{'Shipping Weight:': '3.5 ounces (', 'ASIN: ':...</td>\n",
              "      <td>All Beauty</td>\n",
              "      <td></td>\n",
              "      <td></td>\n",
              "      <td>$28.76</td>\n",
              "      <td>7250468162</td>\n",
              "      <td>[]</td>\n",
              "      <td>[]</td>\n",
              "    </tr>\n",
              "  </tbody>\n",
              "</table>\n",
              "</div>\n",
              "      <button class=\"colab-df-convert\" onclick=\"convertToInteractive('df-e38224df-3ae1-4a42-a12b-6b2751e64540')\"\n",
              "              title=\"Convert this dataframe to an interactive table.\"\n",
              "              style=\"display:none;\">\n",
              "        \n",
              "  <svg xmlns=\"http://www.w3.org/2000/svg\" height=\"24px\"viewBox=\"0 0 24 24\"\n",
              "       width=\"24px\">\n",
              "    <path d=\"M0 0h24v24H0V0z\" fill=\"none\"/>\n",
              "    <path d=\"M18.56 5.44l.94 2.06.94-2.06 2.06-.94-2.06-.94-.94-2.06-.94 2.06-2.06.94zm-11 1L8.5 8.5l.94-2.06 2.06-.94-2.06-.94L8.5 2.5l-.94 2.06-2.06.94zm10 10l.94 2.06.94-2.06 2.06-.94-2.06-.94-.94-2.06-.94 2.06-2.06.94z\"/><path d=\"M17.41 7.96l-1.37-1.37c-.4-.4-.92-.59-1.43-.59-.52 0-1.04.2-1.43.59L10.3 9.45l-7.72 7.72c-.78.78-.78 2.05 0 2.83L4 21.41c.39.39.9.59 1.41.59.51 0 1.02-.2 1.41-.59l7.78-7.78 2.81-2.81c.8-.78.8-2.07 0-2.86zM5.41 20L4 18.59l7.72-7.72 1.47 1.35L5.41 20z\"/>\n",
              "  </svg>\n",
              "      </button>\n",
              "      \n",
              "  <style>\n",
              "    .colab-df-container {\n",
              "      display:flex;\n",
              "      flex-wrap:wrap;\n",
              "      gap: 12px;\n",
              "    }\n",
              "\n",
              "    .colab-df-convert {\n",
              "      background-color: #E8F0FE;\n",
              "      border: none;\n",
              "      border-radius: 50%;\n",
              "      cursor: pointer;\n",
              "      display: none;\n",
              "      fill: #1967D2;\n",
              "      height: 32px;\n",
              "      padding: 0 0 0 0;\n",
              "      width: 32px;\n",
              "    }\n",
              "\n",
              "    .colab-df-convert:hover {\n",
              "      background-color: #E2EBFA;\n",
              "      box-shadow: 0px 1px 2px rgba(60, 64, 67, 0.3), 0px 1px 3px 1px rgba(60, 64, 67, 0.15);\n",
              "      fill: #174EA6;\n",
              "    }\n",
              "\n",
              "    [theme=dark] .colab-df-convert {\n",
              "      background-color: #3B4455;\n",
              "      fill: #D2E3FC;\n",
              "    }\n",
              "\n",
              "    [theme=dark] .colab-df-convert:hover {\n",
              "      background-color: #434B5C;\n",
              "      box-shadow: 0px 1px 3px 1px rgba(0, 0, 0, 0.15);\n",
              "      filter: drop-shadow(0px 1px 2px rgba(0, 0, 0, 0.3));\n",
              "      fill: #FFFFFF;\n",
              "    }\n",
              "  </style>\n",
              "\n",
              "      <script>\n",
              "        const buttonEl =\n",
              "          document.querySelector('#df-e38224df-3ae1-4a42-a12b-6b2751e64540 button.colab-df-convert');\n",
              "        buttonEl.style.display =\n",
              "          google.colab.kernel.accessAllowed ? 'block' : 'none';\n",
              "\n",
              "        async function convertToInteractive(key) {\n",
              "          const element = document.querySelector('#df-e38224df-3ae1-4a42-a12b-6b2751e64540');\n",
              "          const dataTable =\n",
              "            await google.colab.kernel.invokeFunction('convertToInteractive',\n",
              "                                                     [key], {});\n",
              "          if (!dataTable) return;\n",
              "\n",
              "          const docLinkHtml = 'Like what you see? Visit the ' +\n",
              "            '<a target=\"_blank\" href=https://colab.research.google.com/notebooks/data_table.ipynb>data table notebook</a>'\n",
              "            + ' to learn more about interactive tables.';\n",
              "          element.innerHTML = '';\n",
              "          dataTable['output_type'] = 'display_data';\n",
              "          await google.colab.output.renderOutput(dataTable, element);\n",
              "          const docLink = document.createElement('div');\n",
              "          docLink.innerHTML = docLinkHtml;\n",
              "          element.appendChild(docLink);\n",
              "        }\n",
              "      </script>\n",
              "    </div>\n",
              "  </div>\n",
              "  "
            ],
            "text/plain": [
              "  category tech1  ... imageURL imageURLHighRes\n",
              "0       []        ...       []              []\n",
              "1       []        ...       []              []\n",
              "2       []        ...       []              []\n",
              "\n",
              "[3 rows x 19 columns]"
            ]
          },
          "metadata": {},
          "execution_count": 7
        }
      ],
      "source": [
        "metadata.head(3)"
      ],
      "id": "L_-yV-jZzA4v"
    },
    {
      "cell_type": "code",
      "execution_count": 8,
      "metadata": {
        "id": "x2C00dOwzA4w",
        "outputId": "f5138570-df12-4e2f-9975-ade87272337e",
        "colab": {
          "base_uri": "https://localhost:8080/",
          "height": 206
        }
      },
      "outputs": [
        {
          "output_type": "execute_result",
          "data": {
            "text/html": [
              "\n",
              "  <div id=\"df-dbe1d009-9dd7-417a-9baa-638f8ee5dd8c\">\n",
              "    <div class=\"colab-df-container\">\n",
              "      <div>\n",
              "<style scoped>\n",
              "    .dataframe tbody tr th:only-of-type {\n",
              "        vertical-align: middle;\n",
              "    }\n",
              "\n",
              "    .dataframe tbody tr th {\n",
              "        vertical-align: top;\n",
              "    }\n",
              "\n",
              "    .dataframe thead th {\n",
              "        text-align: right;\n",
              "    }\n",
              "</style>\n",
              "<table border=\"1\" class=\"dataframe\">\n",
              "  <thead>\n",
              "    <tr style=\"text-align: right;\">\n",
              "      <th></th>\n",
              "      <th>asin</th>\n",
              "      <th>reviewerID</th>\n",
              "      <th>overall</th>\n",
              "      <th>unixReviewTime</th>\n",
              "    </tr>\n",
              "  </thead>\n",
              "  <tbody>\n",
              "    <tr>\n",
              "      <th>0</th>\n",
              "      <td>0143026860</td>\n",
              "      <td>A1V6B6TNIC10QE</td>\n",
              "      <td>1.0</td>\n",
              "      <td>1424304000</td>\n",
              "    </tr>\n",
              "    <tr>\n",
              "      <th>1</th>\n",
              "      <td>0143026860</td>\n",
              "      <td>A2F5GHSXFQ0W6J</td>\n",
              "      <td>4.0</td>\n",
              "      <td>1418860800</td>\n",
              "    </tr>\n",
              "    <tr>\n",
              "      <th>2</th>\n",
              "      <td>0143026860</td>\n",
              "      <td>A1572GUYS7DGSR</td>\n",
              "      <td>4.0</td>\n",
              "      <td>1407628800</td>\n",
              "    </tr>\n",
              "    <tr>\n",
              "      <th>3</th>\n",
              "      <td>0143026860</td>\n",
              "      <td>A1PSGLFK1NSVO</td>\n",
              "      <td>5.0</td>\n",
              "      <td>1362960000</td>\n",
              "    </tr>\n",
              "    <tr>\n",
              "      <th>4</th>\n",
              "      <td>0143026860</td>\n",
              "      <td>A6IKXKZMTKGSC</td>\n",
              "      <td>5.0</td>\n",
              "      <td>1324771200</td>\n",
              "    </tr>\n",
              "  </tbody>\n",
              "</table>\n",
              "</div>\n",
              "      <button class=\"colab-df-convert\" onclick=\"convertToInteractive('df-dbe1d009-9dd7-417a-9baa-638f8ee5dd8c')\"\n",
              "              title=\"Convert this dataframe to an interactive table.\"\n",
              "              style=\"display:none;\">\n",
              "        \n",
              "  <svg xmlns=\"http://www.w3.org/2000/svg\" height=\"24px\"viewBox=\"0 0 24 24\"\n",
              "       width=\"24px\">\n",
              "    <path d=\"M0 0h24v24H0V0z\" fill=\"none\"/>\n",
              "    <path d=\"M18.56 5.44l.94 2.06.94-2.06 2.06-.94-2.06-.94-.94-2.06-.94 2.06-2.06.94zm-11 1L8.5 8.5l.94-2.06 2.06-.94-2.06-.94L8.5 2.5l-.94 2.06-2.06.94zm10 10l.94 2.06.94-2.06 2.06-.94-2.06-.94-.94-2.06-.94 2.06-2.06.94z\"/><path d=\"M17.41 7.96l-1.37-1.37c-.4-.4-.92-.59-1.43-.59-.52 0-1.04.2-1.43.59L10.3 9.45l-7.72 7.72c-.78.78-.78 2.05 0 2.83L4 21.41c.39.39.9.59 1.41.59.51 0 1.02-.2 1.41-.59l7.78-7.78 2.81-2.81c.8-.78.8-2.07 0-2.86zM5.41 20L4 18.59l7.72-7.72 1.47 1.35L5.41 20z\"/>\n",
              "  </svg>\n",
              "      </button>\n",
              "      \n",
              "  <style>\n",
              "    .colab-df-container {\n",
              "      display:flex;\n",
              "      flex-wrap:wrap;\n",
              "      gap: 12px;\n",
              "    }\n",
              "\n",
              "    .colab-df-convert {\n",
              "      background-color: #E8F0FE;\n",
              "      border: none;\n",
              "      border-radius: 50%;\n",
              "      cursor: pointer;\n",
              "      display: none;\n",
              "      fill: #1967D2;\n",
              "      height: 32px;\n",
              "      padding: 0 0 0 0;\n",
              "      width: 32px;\n",
              "    }\n",
              "\n",
              "    .colab-df-convert:hover {\n",
              "      background-color: #E2EBFA;\n",
              "      box-shadow: 0px 1px 2px rgba(60, 64, 67, 0.3), 0px 1px 3px 1px rgba(60, 64, 67, 0.15);\n",
              "      fill: #174EA6;\n",
              "    }\n",
              "\n",
              "    [theme=dark] .colab-df-convert {\n",
              "      background-color: #3B4455;\n",
              "      fill: #D2E3FC;\n",
              "    }\n",
              "\n",
              "    [theme=dark] .colab-df-convert:hover {\n",
              "      background-color: #434B5C;\n",
              "      box-shadow: 0px 1px 3px 1px rgba(0, 0, 0, 0.15);\n",
              "      filter: drop-shadow(0px 1px 2px rgba(0, 0, 0, 0.3));\n",
              "      fill: #FFFFFF;\n",
              "    }\n",
              "  </style>\n",
              "\n",
              "      <script>\n",
              "        const buttonEl =\n",
              "          document.querySelector('#df-dbe1d009-9dd7-417a-9baa-638f8ee5dd8c button.colab-df-convert');\n",
              "        buttonEl.style.display =\n",
              "          google.colab.kernel.accessAllowed ? 'block' : 'none';\n",
              "\n",
              "        async function convertToInteractive(key) {\n",
              "          const element = document.querySelector('#df-dbe1d009-9dd7-417a-9baa-638f8ee5dd8c');\n",
              "          const dataTable =\n",
              "            await google.colab.kernel.invokeFunction('convertToInteractive',\n",
              "                                                     [key], {});\n",
              "          if (!dataTable) return;\n",
              "\n",
              "          const docLinkHtml = 'Like what you see? Visit the ' +\n",
              "            '<a target=\"_blank\" href=https://colab.research.google.com/notebooks/data_table.ipynb>data table notebook</a>'\n",
              "            + ' to learn more about interactive tables.';\n",
              "          element.innerHTML = '';\n",
              "          dataTable['output_type'] = 'display_data';\n",
              "          await google.colab.output.renderOutput(dataTable, element);\n",
              "          const docLink = document.createElement('div');\n",
              "          docLink.innerHTML = docLinkHtml;\n",
              "          element.appendChild(docLink);\n",
              "        }\n",
              "      </script>\n",
              "    </div>\n",
              "  </div>\n",
              "  "
            ],
            "text/plain": [
              "         asin      reviewerID  overall  unixReviewTime\n",
              "0  0143026860  A1V6B6TNIC10QE      1.0      1424304000\n",
              "1  0143026860  A2F5GHSXFQ0W6J      4.0      1418860800\n",
              "2  0143026860  A1572GUYS7DGSR      4.0      1407628800\n",
              "3  0143026860   A1PSGLFK1NSVO      5.0      1362960000\n",
              "4  0143026860   A6IKXKZMTKGSC      5.0      1324771200"
            ]
          },
          "metadata": {},
          "execution_count": 8
        }
      ],
      "source": [
        "ratings.head()"
      ],
      "id": "x2C00dOwzA4w"
    },
    {
      "cell_type": "markdown",
      "metadata": {
        "id": "Qu9hmAohzA4x"
      },
      "source": [
        "## 資料整理"
      ],
      "id": "Qu9hmAohzA4x"
    },
    {
      "cell_type": "code",
      "execution_count": 9,
      "metadata": {
        "id": "F8mu5tRjzA4y"
      },
      "outputs": [],
      "source": [
        "ratings['DATE'] = pd.to_datetime(ratings['unixReviewTime'], unit='s')"
      ],
      "id": "F8mu5tRjzA4y"
    },
    {
      "cell_type": "code",
      "source": [
        "# drop duplicates rows\n",
        "metadata_clean = metadata.loc[metadata.astype(str).drop_duplicates().index]"
      ],
      "metadata": {
        "id": "8XTJrAl1qXA4"
      },
      "execution_count": 10,
      "outputs": [],
      "id": "8XTJrAl1qXA4"
    },
    {
      "cell_type": "code",
      "source": [
        "# replace empty value as Nan\n",
        "metadata_clean.replace('', np.nan, inplace = True)"
      ],
      "metadata": {
        "id": "udfUGvEDApQ7"
      },
      "execution_count": 11,
      "outputs": [],
      "id": "udfUGvEDApQ7"
    },
    {
      "cell_type": "code",
      "source": [
        "# clean column `rank`\n",
        "metadata_clean['rank'] = metadata_clean['rank'].str.replace('&amp;', '&')\n",
        "metadata_clean['rank'].fillna('0', inplace = True)\n",
        "metadata_clean['rank_category'] = [re.search('in (.*) \\(', r).group(1) if r != '0' else None for r in metadata_clean['rank']]\n",
        "metadata_clean['rank_num'] = [re.search('(.*) in .*', r).group(1) if r != '0' else None for r in metadata_clean['rank']]\n",
        "metadata_clean['rank_num'] = metadata_clean['rank_num'].str.replace(',', '').astype(float)"
      ],
      "metadata": {
        "id": "t0-A-xBsCCEM"
      },
      "execution_count": 12,
      "outputs": [],
      "id": "t0-A-xBsCCEM"
    },
    {
      "cell_type": "code",
      "source": [
        "# count `rank_category`\n",
        "metadata_clean.rank_category.value_counts()"
      ],
      "metadata": {
        "colab": {
          "base_uri": "https://localhost:8080/"
        },
        "id": "IuJJ2KChpN7n",
        "outputId": "fc26b18b-ce0a-47e7-894c-7f930a989437"
      },
      "execution_count": 13,
      "outputs": [
        {
          "output_type": "execute_result",
          "data": {
            "text/plain": [
              "Beauty & Personal Care       32015\n",
              "Grocery & Gourmet Food          37\n",
              "Health & Household              21\n",
              "Toys & Games                     3\n",
              "Sports & Outdoors                3\n",
              "Clothing, Shoes & Jewelry        2\n",
              "Baby                             2\n",
              "Home & Kitchen                   1\n",
              "Tools & Home Improvement         1\n",
              "Automotive                       1\n",
              "Name: rank_category, dtype: int64"
            ]
          },
          "metadata": {},
          "execution_count": 13
        }
      ],
      "id": "IuJJ2KChpN7n"
    },
    {
      "cell_type": "code",
      "source": [
        "(metadata_clean.rank_category != 'Beauty & Personal Care').sum()/metadata_clean.shape[0]"
      ],
      "metadata": {
        "colab": {
          "base_uri": "https://localhost:8080/"
        },
        "id": "VGtbbo6DnPkV",
        "outputId": "482b34d5-34a9-4011-a938-ac6cbb3137e5"
      },
      "execution_count": 14,
      "outputs": [
        {
          "output_type": "execute_result",
          "data": {
            "text/plain": [
              "0.014559221866535335"
            ]
          },
          "metadata": {},
          "execution_count": 14
        }
      ],
      "id": "VGtbbo6DnPkV"
    },
    {
      "cell_type": "code",
      "source": [
        "# excluding category != 'Beauty & Personal Care'\n",
        "metadata_clean = metadata_clean[metadata_clean.rank_category == 'Beauty & Personal Care']"
      ],
      "metadata": {
        "id": "BueQgAs2pOrz"
      },
      "execution_count": 15,
      "outputs": [],
      "id": "BueQgAs2pOrz"
    },
    {
      "cell_type": "code",
      "source": [
        "# convert `price` to float\n",
        "metadata_clean['price'].fillna('0', inplace = True)\n",
        "metadata_clean['price'] = [re.search('\\$(.*)', p).group(1) if re.search('\\$(.*)', p) != None else None for p in metadata_clean['price']]\n",
        "metadata_clean['price'] = metadata_clean['price'].str.replace(',', '').astype(float)"
      ],
      "metadata": {
        "id": "asCq-6uwuk6v",
        "colab": {
          "base_uri": "https://localhost:8080/"
        },
        "outputId": "aff361cd-4e64-4dfd-eba8-2e436ba10c3e"
      },
      "execution_count": 16,
      "outputs": [
        {
          "output_type": "stream",
          "name": "stderr",
          "text": [
            "/usr/local/lib/python3.7/dist-packages/pandas/core/series.py:4536: SettingWithCopyWarning: \n",
            "A value is trying to be set on a copy of a slice from a DataFrame\n",
            "\n",
            "See the caveats in the documentation: https://pandas.pydata.org/pandas-docs/stable/user_guide/indexing.html#returning-a-view-versus-a-copy\n",
            "  downcast=downcast,\n"
          ]
        }
      ],
      "id": "asCq-6uwuk6v"
    },
    {
      "cell_type": "code",
      "source": [
        "metadata_clean.describe()"
      ],
      "metadata": {
        "colab": {
          "base_uri": "https://localhost:8080/",
          "height": 300
        },
        "id": "oNPo5iibxbjT",
        "outputId": "4fa5d8a1-100f-4ea1-a89f-ac6b167dfa2e"
      },
      "execution_count": 17,
      "outputs": [
        {
          "output_type": "execute_result",
          "data": {
            "text/html": [
              "\n",
              "  <div id=\"df-6e5b2561-fe71-4977-9d09-bdd712c6ec48\">\n",
              "    <div class=\"colab-df-container\">\n",
              "      <div>\n",
              "<style scoped>\n",
              "    .dataframe tbody tr th:only-of-type {\n",
              "        vertical-align: middle;\n",
              "    }\n",
              "\n",
              "    .dataframe tbody tr th {\n",
              "        vertical-align: top;\n",
              "    }\n",
              "\n",
              "    .dataframe thead th {\n",
              "        text-align: right;\n",
              "    }\n",
              "</style>\n",
              "<table border=\"1\" class=\"dataframe\">\n",
              "  <thead>\n",
              "    <tr style=\"text-align: right;\">\n",
              "      <th></th>\n",
              "      <th>fit</th>\n",
              "      <th>tech2</th>\n",
              "      <th>price</th>\n",
              "      <th>rank_num</th>\n",
              "    </tr>\n",
              "  </thead>\n",
              "  <tbody>\n",
              "    <tr>\n",
              "      <th>count</th>\n",
              "      <td>0.0</td>\n",
              "      <td>0.0</td>\n",
              "      <td>11019.000000</td>\n",
              "      <td>3.201500e+04</td>\n",
              "    </tr>\n",
              "    <tr>\n",
              "      <th>mean</th>\n",
              "      <td>NaN</td>\n",
              "      <td>NaN</td>\n",
              "      <td>27.942638</td>\n",
              "      <td>1.281157e+06</td>\n",
              "    </tr>\n",
              "    <tr>\n",
              "      <th>std</th>\n",
              "      <td>NaN</td>\n",
              "      <td>NaN</td>\n",
              "      <td>53.903673</td>\n",
              "      <td>8.052168e+05</td>\n",
              "    </tr>\n",
              "    <tr>\n",
              "      <th>min</th>\n",
              "      <td>NaN</td>\n",
              "      <td>NaN</td>\n",
              "      <td>0.010000</td>\n",
              "      <td>3.500000e+01</td>\n",
              "    </tr>\n",
              "    <tr>\n",
              "      <th>25%</th>\n",
              "      <td>NaN</td>\n",
              "      <td>NaN</td>\n",
              "      <td>8.990000</td>\n",
              "      <td>6.783310e+05</td>\n",
              "    </tr>\n",
              "    <tr>\n",
              "      <th>50%</th>\n",
              "      <td>NaN</td>\n",
              "      <td>NaN</td>\n",
              "      <td>15.990000</td>\n",
              "      <td>1.129923e+06</td>\n",
              "    </tr>\n",
              "    <tr>\n",
              "      <th>75%</th>\n",
              "      <td>NaN</td>\n",
              "      <td>NaN</td>\n",
              "      <td>29.990000</td>\n",
              "      <td>1.741006e+06</td>\n",
              "    </tr>\n",
              "    <tr>\n",
              "      <th>max</th>\n",
              "      <td>NaN</td>\n",
              "      <td>NaN</td>\n",
              "      <td>2149.000000</td>\n",
              "      <td>3.481442e+06</td>\n",
              "    </tr>\n",
              "  </tbody>\n",
              "</table>\n",
              "</div>\n",
              "      <button class=\"colab-df-convert\" onclick=\"convertToInteractive('df-6e5b2561-fe71-4977-9d09-bdd712c6ec48')\"\n",
              "              title=\"Convert this dataframe to an interactive table.\"\n",
              "              style=\"display:none;\">\n",
              "        \n",
              "  <svg xmlns=\"http://www.w3.org/2000/svg\" height=\"24px\"viewBox=\"0 0 24 24\"\n",
              "       width=\"24px\">\n",
              "    <path d=\"M0 0h24v24H0V0z\" fill=\"none\"/>\n",
              "    <path d=\"M18.56 5.44l.94 2.06.94-2.06 2.06-.94-2.06-.94-.94-2.06-.94 2.06-2.06.94zm-11 1L8.5 8.5l.94-2.06 2.06-.94-2.06-.94L8.5 2.5l-.94 2.06-2.06.94zm10 10l.94 2.06.94-2.06 2.06-.94-2.06-.94-.94-2.06-.94 2.06-2.06.94z\"/><path d=\"M17.41 7.96l-1.37-1.37c-.4-.4-.92-.59-1.43-.59-.52 0-1.04.2-1.43.59L10.3 9.45l-7.72 7.72c-.78.78-.78 2.05 0 2.83L4 21.41c.39.39.9.59 1.41.59.51 0 1.02-.2 1.41-.59l7.78-7.78 2.81-2.81c.8-.78.8-2.07 0-2.86zM5.41 20L4 18.59l7.72-7.72 1.47 1.35L5.41 20z\"/>\n",
              "  </svg>\n",
              "      </button>\n",
              "      \n",
              "  <style>\n",
              "    .colab-df-container {\n",
              "      display:flex;\n",
              "      flex-wrap:wrap;\n",
              "      gap: 12px;\n",
              "    }\n",
              "\n",
              "    .colab-df-convert {\n",
              "      background-color: #E8F0FE;\n",
              "      border: none;\n",
              "      border-radius: 50%;\n",
              "      cursor: pointer;\n",
              "      display: none;\n",
              "      fill: #1967D2;\n",
              "      height: 32px;\n",
              "      padding: 0 0 0 0;\n",
              "      width: 32px;\n",
              "    }\n",
              "\n",
              "    .colab-df-convert:hover {\n",
              "      background-color: #E2EBFA;\n",
              "      box-shadow: 0px 1px 2px rgba(60, 64, 67, 0.3), 0px 1px 3px 1px rgba(60, 64, 67, 0.15);\n",
              "      fill: #174EA6;\n",
              "    }\n",
              "\n",
              "    [theme=dark] .colab-df-convert {\n",
              "      background-color: #3B4455;\n",
              "      fill: #D2E3FC;\n",
              "    }\n",
              "\n",
              "    [theme=dark] .colab-df-convert:hover {\n",
              "      background-color: #434B5C;\n",
              "      box-shadow: 0px 1px 3px 1px rgba(0, 0, 0, 0.15);\n",
              "      filter: drop-shadow(0px 1px 2px rgba(0, 0, 0, 0.3));\n",
              "      fill: #FFFFFF;\n",
              "    }\n",
              "  </style>\n",
              "\n",
              "      <script>\n",
              "        const buttonEl =\n",
              "          document.querySelector('#df-6e5b2561-fe71-4977-9d09-bdd712c6ec48 button.colab-df-convert');\n",
              "        buttonEl.style.display =\n",
              "          google.colab.kernel.accessAllowed ? 'block' : 'none';\n",
              "\n",
              "        async function convertToInteractive(key) {\n",
              "          const element = document.querySelector('#df-6e5b2561-fe71-4977-9d09-bdd712c6ec48');\n",
              "          const dataTable =\n",
              "            await google.colab.kernel.invokeFunction('convertToInteractive',\n",
              "                                                     [key], {});\n",
              "          if (!dataTable) return;\n",
              "\n",
              "          const docLinkHtml = 'Like what you see? Visit the ' +\n",
              "            '<a target=\"_blank\" href=https://colab.research.google.com/notebooks/data_table.ipynb>data table notebook</a>'\n",
              "            + ' to learn more about interactive tables.';\n",
              "          element.innerHTML = '';\n",
              "          dataTable['output_type'] = 'display_data';\n",
              "          await google.colab.output.renderOutput(dataTable, element);\n",
              "          const docLink = document.createElement('div');\n",
              "          docLink.innerHTML = docLinkHtml;\n",
              "          element.appendChild(docLink);\n",
              "        }\n",
              "      </script>\n",
              "    </div>\n",
              "  </div>\n",
              "  "
            ],
            "text/plain": [
              "       fit  tech2         price      rank_num\n",
              "count  0.0    0.0  11019.000000  3.201500e+04\n",
              "mean   NaN    NaN     27.942638  1.281157e+06\n",
              "std    NaN    NaN     53.903673  8.052168e+05\n",
              "min    NaN    NaN      0.010000  3.500000e+01\n",
              "25%    NaN    NaN      8.990000  6.783310e+05\n",
              "50%    NaN    NaN     15.990000  1.129923e+06\n",
              "75%    NaN    NaN     29.990000  1.741006e+06\n",
              "max    NaN    NaN   2149.000000  3.481442e+06"
            ]
          },
          "metadata": {},
          "execution_count": 17
        }
      ],
      "id": "oNPo5iibxbjT"
    },
    {
      "cell_type": "code",
      "source": [
        "metadata_clean.feature.astype(str).nunique() # only 167 rows have value in `feature`"
      ],
      "metadata": {
        "colab": {
          "base_uri": "https://localhost:8080/"
        },
        "id": "TKTepx6myLmL",
        "outputId": "5eac5be0-1f78-43ec-e454-b62595e81360"
      },
      "execution_count": 18,
      "outputs": [
        {
          "output_type": "execute_result",
          "data": {
            "text/plain": [
              "167"
            ]
          },
          "metadata": {},
          "execution_count": 18
        }
      ],
      "id": "TKTepx6myLmL"
    },
    {
      "cell_type": "code",
      "source": [
        "# drop useless columns\n",
        "metadata_clean.drop(\n",
        "    ['category', 'tech1', 'fit', 'tech2', 'date', 'similar_item', 'feature', 'main_cat', 'rank'], \n",
        "    axis = 1, \n",
        "    inplace = True\n",
        ")"
      ],
      "metadata": {
        "id": "cAXQGTrVhaHq"
      },
      "execution_count": 19,
      "outputs": [],
      "id": "cAXQGTrVhaHq"
    },
    {
      "cell_type": "code",
      "source": [
        "metadata_clean.info()"
      ],
      "metadata": {
        "colab": {
          "base_uri": "https://localhost:8080/"
        },
        "id": "gybC1UpDAuUF",
        "outputId": "458d10b4-3d22-48d9-baa2-d62ac2fe6e9f"
      },
      "execution_count": 20,
      "outputs": [
        {
          "output_type": "stream",
          "name": "stdout",
          "text": [
            "<class 'pandas.core.frame.DataFrame'>\n",
            "Int64Index: 32015 entries, 0 to 32891\n",
            "Data columns (total 12 columns):\n",
            " #   Column           Non-Null Count  Dtype  \n",
            "---  ------           --------------  -----  \n",
            " 0   description      32015 non-null  object \n",
            " 1   title            32015 non-null  object \n",
            " 2   also_buy         32015 non-null  object \n",
            " 3   brand            16627 non-null  object \n",
            " 4   also_view        32015 non-null  object \n",
            " 5   details          32015 non-null  object \n",
            " 6   price            11019 non-null  float64\n",
            " 7   asin             32015 non-null  object \n",
            " 8   imageURL         32015 non-null  object \n",
            " 9   imageURLHighRes  32015 non-null  object \n",
            " 10  rank_category    32015 non-null  object \n",
            " 11  rank_num         32015 non-null  float64\n",
            "dtypes: float64(2), object(10)\n",
            "memory usage: 3.2+ MB\n"
          ]
        }
      ],
      "id": "gybC1UpDAuUF"
    },
    {
      "cell_type": "markdown",
      "metadata": {
        "id": "q3iWEnLHzA4y"
      },
      "source": [
        "## 資料切分"
      ],
      "id": "q3iWEnLHzA4y"
    },
    {
      "cell_type": "code",
      "execution_count": 21,
      "metadata": {
        "id": "jxE1z-dizA4y"
      },
      "outputs": [],
      "source": [
        "ratings_trainings = ratings[\n",
        "    (ratings['DATE'] < '2018-09-01')\n",
        "]\n",
        "ratings_testings = ratings[\n",
        "    (ratings['DATE'] >= '2018-09-01') & \n",
        "    (ratings['DATE'] <= '2018-09-30')\n",
        "]\n",
        "ratings_testings_by_user = ratings_testings.groupby('reviewerID').agg(list).reset_index()[['reviewerID', 'asin']].to_dict('records')\n",
        "ratings_testings_by_user = { rating['reviewerID']: rating['asin'] for rating in ratings_testings_by_user }\n",
        "users = list(ratings_testings_by_user.keys())"
      ],
      "id": "jxE1z-dizA4y"
    },
    {
      "cell_type": "code",
      "source": [
        "ratings_trainings.shape"
      ],
      "metadata": {
        "colab": {
          "base_uri": "https://localhost:8080/"
        },
        "id": "ABc5sPY2oHo3",
        "outputId": "4979b24a-0fb2-447b-ff5b-de736bf91658"
      },
      "execution_count": 22,
      "outputs": [
        {
          "output_type": "execute_result",
          "data": {
            "text/plain": [
              "(370752, 5)"
            ]
          },
          "metadata": {},
          "execution_count": 22
        }
      ],
      "id": "ABc5sPY2oHo3"
    },
    {
      "cell_type": "code",
      "source": [
        "# excluding items which do not in the `metadata_clean`\n",
        "ratings_trainings = ratings_trainings.merge(metadata_clean, how = 'inner', on = 'asin').iloc[:, :5]\n",
        "ratings_trainings.shape"
      ],
      "metadata": {
        "colab": {
          "base_uri": "https://localhost:8080/"
        },
        "id": "BWzKJCxXocRk",
        "outputId": "01680177-ead9-4bcd-fd0e-39c5b9c82784"
      },
      "execution_count": 23,
      "outputs": [
        {
          "output_type": "execute_result",
          "data": {
            "text/plain": [
              "(361021, 5)"
            ]
          },
          "metadata": {},
          "execution_count": 23
        }
      ],
      "id": "BWzKJCxXocRk"
    },
    {
      "cell_type": "markdown",
      "source": [
        "## training data EDA"
      ],
      "metadata": {
        "id": "W1F3ljyeYHZs"
      },
      "id": "W1F3ljyeYHZs"
    },
    {
      "cell_type": "code",
      "source": [
        "ratings_trainings.head()"
      ],
      "metadata": {
        "colab": {
          "base_uri": "https://localhost:8080/",
          "height": 206
        },
        "id": "NCFzEx8RYGIz",
        "outputId": "efc4d4fe-a489-44ad-f75e-543a04d9decd"
      },
      "execution_count": 24,
      "outputs": [
        {
          "output_type": "execute_result",
          "data": {
            "text/html": [
              "\n",
              "  <div id=\"df-afdf3755-d932-4a92-a8f0-4ebcf2d89120\">\n",
              "    <div class=\"colab-df-container\">\n",
              "      <div>\n",
              "<style scoped>\n",
              "    .dataframe tbody tr th:only-of-type {\n",
              "        vertical-align: middle;\n",
              "    }\n",
              "\n",
              "    .dataframe tbody tr th {\n",
              "        vertical-align: top;\n",
              "    }\n",
              "\n",
              "    .dataframe thead th {\n",
              "        text-align: right;\n",
              "    }\n",
              "</style>\n",
              "<table border=\"1\" class=\"dataframe\">\n",
              "  <thead>\n",
              "    <tr style=\"text-align: right;\">\n",
              "      <th></th>\n",
              "      <th>asin</th>\n",
              "      <th>reviewerID</th>\n",
              "      <th>overall</th>\n",
              "      <th>unixReviewTime</th>\n",
              "      <th>DATE</th>\n",
              "    </tr>\n",
              "  </thead>\n",
              "  <tbody>\n",
              "    <tr>\n",
              "      <th>0</th>\n",
              "      <td>7414204790</td>\n",
              "      <td>A5TA1NJOC0PJ5</td>\n",
              "      <td>5.0</td>\n",
              "      <td>1457568000</td>\n",
              "      <td>2016-03-10</td>\n",
              "    </tr>\n",
              "    <tr>\n",
              "      <th>1</th>\n",
              "      <td>7414204790</td>\n",
              "      <td>A1TJICB7VLGQKL</td>\n",
              "      <td>5.0</td>\n",
              "      <td>1441065600</td>\n",
              "      <td>2015-09-01</td>\n",
              "    </tr>\n",
              "    <tr>\n",
              "      <th>2</th>\n",
              "      <td>7414204790</td>\n",
              "      <td>A80M2286B7STE</td>\n",
              "      <td>5.0</td>\n",
              "      <td>1412294400</td>\n",
              "      <td>2014-10-03</td>\n",
              "    </tr>\n",
              "    <tr>\n",
              "      <th>3</th>\n",
              "      <td>7414204790</td>\n",
              "      <td>A2TM2MAA8IT34U</td>\n",
              "      <td>5.0</td>\n",
              "      <td>1407369600</td>\n",
              "      <td>2014-08-07</td>\n",
              "    </tr>\n",
              "    <tr>\n",
              "      <th>4</th>\n",
              "      <td>7414204790</td>\n",
              "      <td>AQGWT465GTEJG</td>\n",
              "      <td>4.0</td>\n",
              "      <td>1402704000</td>\n",
              "      <td>2014-06-14</td>\n",
              "    </tr>\n",
              "  </tbody>\n",
              "</table>\n",
              "</div>\n",
              "      <button class=\"colab-df-convert\" onclick=\"convertToInteractive('df-afdf3755-d932-4a92-a8f0-4ebcf2d89120')\"\n",
              "              title=\"Convert this dataframe to an interactive table.\"\n",
              "              style=\"display:none;\">\n",
              "        \n",
              "  <svg xmlns=\"http://www.w3.org/2000/svg\" height=\"24px\"viewBox=\"0 0 24 24\"\n",
              "       width=\"24px\">\n",
              "    <path d=\"M0 0h24v24H0V0z\" fill=\"none\"/>\n",
              "    <path d=\"M18.56 5.44l.94 2.06.94-2.06 2.06-.94-2.06-.94-.94-2.06-.94 2.06-2.06.94zm-11 1L8.5 8.5l.94-2.06 2.06-.94-2.06-.94L8.5 2.5l-.94 2.06-2.06.94zm10 10l.94 2.06.94-2.06 2.06-.94-2.06-.94-.94-2.06-.94 2.06-2.06.94z\"/><path d=\"M17.41 7.96l-1.37-1.37c-.4-.4-.92-.59-1.43-.59-.52 0-1.04.2-1.43.59L10.3 9.45l-7.72 7.72c-.78.78-.78 2.05 0 2.83L4 21.41c.39.39.9.59 1.41.59.51 0 1.02-.2 1.41-.59l7.78-7.78 2.81-2.81c.8-.78.8-2.07 0-2.86zM5.41 20L4 18.59l7.72-7.72 1.47 1.35L5.41 20z\"/>\n",
              "  </svg>\n",
              "      </button>\n",
              "      \n",
              "  <style>\n",
              "    .colab-df-container {\n",
              "      display:flex;\n",
              "      flex-wrap:wrap;\n",
              "      gap: 12px;\n",
              "    }\n",
              "\n",
              "    .colab-df-convert {\n",
              "      background-color: #E8F0FE;\n",
              "      border: none;\n",
              "      border-radius: 50%;\n",
              "      cursor: pointer;\n",
              "      display: none;\n",
              "      fill: #1967D2;\n",
              "      height: 32px;\n",
              "      padding: 0 0 0 0;\n",
              "      width: 32px;\n",
              "    }\n",
              "\n",
              "    .colab-df-convert:hover {\n",
              "      background-color: #E2EBFA;\n",
              "      box-shadow: 0px 1px 2px rgba(60, 64, 67, 0.3), 0px 1px 3px 1px rgba(60, 64, 67, 0.15);\n",
              "      fill: #174EA6;\n",
              "    }\n",
              "\n",
              "    [theme=dark] .colab-df-convert {\n",
              "      background-color: #3B4455;\n",
              "      fill: #D2E3FC;\n",
              "    }\n",
              "\n",
              "    [theme=dark] .colab-df-convert:hover {\n",
              "      background-color: #434B5C;\n",
              "      box-shadow: 0px 1px 3px 1px rgba(0, 0, 0, 0.15);\n",
              "      filter: drop-shadow(0px 1px 2px rgba(0, 0, 0, 0.3));\n",
              "      fill: #FFFFFF;\n",
              "    }\n",
              "  </style>\n",
              "\n",
              "      <script>\n",
              "        const buttonEl =\n",
              "          document.querySelector('#df-afdf3755-d932-4a92-a8f0-4ebcf2d89120 button.colab-df-convert');\n",
              "        buttonEl.style.display =\n",
              "          google.colab.kernel.accessAllowed ? 'block' : 'none';\n",
              "\n",
              "        async function convertToInteractive(key) {\n",
              "          const element = document.querySelector('#df-afdf3755-d932-4a92-a8f0-4ebcf2d89120');\n",
              "          const dataTable =\n",
              "            await google.colab.kernel.invokeFunction('convertToInteractive',\n",
              "                                                     [key], {});\n",
              "          if (!dataTable) return;\n",
              "\n",
              "          const docLinkHtml = 'Like what you see? Visit the ' +\n",
              "            '<a target=\"_blank\" href=https://colab.research.google.com/notebooks/data_table.ipynb>data table notebook</a>'\n",
              "            + ' to learn more about interactive tables.';\n",
              "          element.innerHTML = '';\n",
              "          dataTable['output_type'] = 'display_data';\n",
              "          await google.colab.output.renderOutput(dataTable, element);\n",
              "          const docLink = document.createElement('div');\n",
              "          docLink.innerHTML = docLinkHtml;\n",
              "          element.appendChild(docLink);\n",
              "        }\n",
              "      </script>\n",
              "    </div>\n",
              "  </div>\n",
              "  "
            ],
            "text/plain": [
              "         asin      reviewerID  overall  unixReviewTime       DATE\n",
              "0  7414204790   A5TA1NJOC0PJ5      5.0      1457568000 2016-03-10\n",
              "1  7414204790  A1TJICB7VLGQKL      5.0      1441065600 2015-09-01\n",
              "2  7414204790   A80M2286B7STE      5.0      1412294400 2014-10-03\n",
              "3  7414204790  A2TM2MAA8IT34U      5.0      1407369600 2014-08-07\n",
              "4  7414204790   AQGWT465GTEJG      4.0      1402704000 2014-06-14"
            ]
          },
          "metadata": {},
          "execution_count": 24
        }
      ],
      "id": "NCFzEx8RYGIz"
    },
    {
      "cell_type": "code",
      "source": [
        "print(f'Total # orders: {ratings_trainings.shape[0]:,}')\n",
        "print(f'Total # products: {metadata.asin.nunique():,}')\n",
        "print(f'Unique purchased products: {ratings_trainings.asin.nunique():,}')\n",
        "print(f'Unique purchased users: {ratings_trainings.reviewerID.nunique():,}')\n",
        "print(f'Time period: {ratings_trainings.DATE.min()} ~ {ratings_trainings.DATE.max()}')"
      ],
      "metadata": {
        "colab": {
          "base_uri": "https://localhost:8080/"
        },
        "id": "TLnCQ8pbqyLm",
        "outputId": "863a175e-0155-4190-915e-a9867464d274"
      },
      "execution_count": 25,
      "outputs": [
        {
          "output_type": "stream",
          "name": "stdout",
          "text": [
            "Total # orders: 361,021\n",
            "Total # products: 32,488\n",
            "Unique purchased products: 32,009\n",
            "Unique purchased users: 314,769\n",
            "Time period: 2000-10-29 00:00:00 ~ 2018-08-31 00:00:00\n"
          ]
        }
      ],
      "id": "TLnCQ8pbqyLm"
    },
    {
      "cell_type": "markdown",
      "source": [
        "1. 大部分商品在過去都被買過\n",
        "2. 大多使用者只買過一次"
      ],
      "metadata": {
        "id": "C28hiPMW0egW"
      },
      "id": "C28hiPMW0egW"
    },
    {
      "cell_type": "code",
      "source": [
        "print(f'Duplicated orders: {ratings_trainings.duplicated().sum():,}')  \n",
        "# if item_amount > 1 in one order then would be duplicated?"
      ],
      "metadata": {
        "colab": {
          "base_uri": "https://localhost:8080/"
        },
        "id": "E-iXCYpguY4-",
        "outputId": "69e1758f-4983-49d3-a66c-e23519772f38"
      },
      "execution_count": 26,
      "outputs": [
        {
          "output_type": "stream",
          "name": "stdout",
          "text": [
            "Duplicated orders: 9,015\n"
          ]
        }
      ],
      "id": "E-iXCYpguY4-"
    },
    {
      "cell_type": "markdown",
      "source": [
        "### Rating"
      ],
      "metadata": {
        "id": "-gJ_lkVrhLlW"
      },
      "id": "-gJ_lkVrhLlW"
    },
    {
      "cell_type": "code",
      "source": [
        "# distribution of overall rating \n",
        "ratings_trainings.describe()"
      ],
      "metadata": {
        "colab": {
          "base_uri": "https://localhost:8080/",
          "height": 300
        },
        "id": "2KASH5rqtCFJ",
        "outputId": "aa350ced-eb40-4a17-adf7-72e58c8f4695"
      },
      "execution_count": 28,
      "outputs": [
        {
          "output_type": "execute_result",
          "data": {
            "text/html": [
              "\n",
              "  <div id=\"df-82c4380c-2e14-4c59-874d-5eac318398e7\">\n",
              "    <div class=\"colab-df-container\">\n",
              "      <div>\n",
              "<style scoped>\n",
              "    .dataframe tbody tr th:only-of-type {\n",
              "        vertical-align: middle;\n",
              "    }\n",
              "\n",
              "    .dataframe tbody tr th {\n",
              "        vertical-align: top;\n",
              "    }\n",
              "\n",
              "    .dataframe thead th {\n",
              "        text-align: right;\n",
              "    }\n",
              "</style>\n",
              "<table border=\"1\" class=\"dataframe\">\n",
              "  <thead>\n",
              "    <tr style=\"text-align: right;\">\n",
              "      <th></th>\n",
              "      <th>overall</th>\n",
              "      <th>unixReviewTime</th>\n",
              "    </tr>\n",
              "  </thead>\n",
              "  <tbody>\n",
              "    <tr>\n",
              "      <th>count</th>\n",
              "      <td>361021.000000</td>\n",
              "      <td>3.610210e+05</td>\n",
              "    </tr>\n",
              "    <tr>\n",
              "      <th>mean</th>\n",
              "      <td>4.104379</td>\n",
              "      <td>1.440871e+09</td>\n",
              "    </tr>\n",
              "    <tr>\n",
              "      <th>std</th>\n",
              "      <td>1.365611</td>\n",
              "      <td>6.928741e+07</td>\n",
              "    </tr>\n",
              "    <tr>\n",
              "      <th>min</th>\n",
              "      <td>1.000000</td>\n",
              "      <td>9.727776e+08</td>\n",
              "    </tr>\n",
              "    <tr>\n",
              "      <th>25%</th>\n",
              "      <td>4.000000</td>\n",
              "      <td>1.416010e+09</td>\n",
              "    </tr>\n",
              "    <tr>\n",
              "      <th>50%</th>\n",
              "      <td>5.000000</td>\n",
              "      <td>1.457136e+09</td>\n",
              "    </tr>\n",
              "    <tr>\n",
              "      <th>75%</th>\n",
              "      <td>5.000000</td>\n",
              "      <td>1.485648e+09</td>\n",
              "    </tr>\n",
              "    <tr>\n",
              "      <th>max</th>\n",
              "      <td>5.000000</td>\n",
              "      <td>1.535674e+09</td>\n",
              "    </tr>\n",
              "  </tbody>\n",
              "</table>\n",
              "</div>\n",
              "      <button class=\"colab-df-convert\" onclick=\"convertToInteractive('df-82c4380c-2e14-4c59-874d-5eac318398e7')\"\n",
              "              title=\"Convert this dataframe to an interactive table.\"\n",
              "              style=\"display:none;\">\n",
              "        \n",
              "  <svg xmlns=\"http://www.w3.org/2000/svg\" height=\"24px\"viewBox=\"0 0 24 24\"\n",
              "       width=\"24px\">\n",
              "    <path d=\"M0 0h24v24H0V0z\" fill=\"none\"/>\n",
              "    <path d=\"M18.56 5.44l.94 2.06.94-2.06 2.06-.94-2.06-.94-.94-2.06-.94 2.06-2.06.94zm-11 1L8.5 8.5l.94-2.06 2.06-.94-2.06-.94L8.5 2.5l-.94 2.06-2.06.94zm10 10l.94 2.06.94-2.06 2.06-.94-2.06-.94-.94-2.06-.94 2.06-2.06.94z\"/><path d=\"M17.41 7.96l-1.37-1.37c-.4-.4-.92-.59-1.43-.59-.52 0-1.04.2-1.43.59L10.3 9.45l-7.72 7.72c-.78.78-.78 2.05 0 2.83L4 21.41c.39.39.9.59 1.41.59.51 0 1.02-.2 1.41-.59l7.78-7.78 2.81-2.81c.8-.78.8-2.07 0-2.86zM5.41 20L4 18.59l7.72-7.72 1.47 1.35L5.41 20z\"/>\n",
              "  </svg>\n",
              "      </button>\n",
              "      \n",
              "  <style>\n",
              "    .colab-df-container {\n",
              "      display:flex;\n",
              "      flex-wrap:wrap;\n",
              "      gap: 12px;\n",
              "    }\n",
              "\n",
              "    .colab-df-convert {\n",
              "      background-color: #E8F0FE;\n",
              "      border: none;\n",
              "      border-radius: 50%;\n",
              "      cursor: pointer;\n",
              "      display: none;\n",
              "      fill: #1967D2;\n",
              "      height: 32px;\n",
              "      padding: 0 0 0 0;\n",
              "      width: 32px;\n",
              "    }\n",
              "\n",
              "    .colab-df-convert:hover {\n",
              "      background-color: #E2EBFA;\n",
              "      box-shadow: 0px 1px 2px rgba(60, 64, 67, 0.3), 0px 1px 3px 1px rgba(60, 64, 67, 0.15);\n",
              "      fill: #174EA6;\n",
              "    }\n",
              "\n",
              "    [theme=dark] .colab-df-convert {\n",
              "      background-color: #3B4455;\n",
              "      fill: #D2E3FC;\n",
              "    }\n",
              "\n",
              "    [theme=dark] .colab-df-convert:hover {\n",
              "      background-color: #434B5C;\n",
              "      box-shadow: 0px 1px 3px 1px rgba(0, 0, 0, 0.15);\n",
              "      filter: drop-shadow(0px 1px 2px rgba(0, 0, 0, 0.3));\n",
              "      fill: #FFFFFF;\n",
              "    }\n",
              "  </style>\n",
              "\n",
              "      <script>\n",
              "        const buttonEl =\n",
              "          document.querySelector('#df-82c4380c-2e14-4c59-874d-5eac318398e7 button.colab-df-convert');\n",
              "        buttonEl.style.display =\n",
              "          google.colab.kernel.accessAllowed ? 'block' : 'none';\n",
              "\n",
              "        async function convertToInteractive(key) {\n",
              "          const element = document.querySelector('#df-82c4380c-2e14-4c59-874d-5eac318398e7');\n",
              "          const dataTable =\n",
              "            await google.colab.kernel.invokeFunction('convertToInteractive',\n",
              "                                                     [key], {});\n",
              "          if (!dataTable) return;\n",
              "\n",
              "          const docLinkHtml = 'Like what you see? Visit the ' +\n",
              "            '<a target=\"_blank\" href=https://colab.research.google.com/notebooks/data_table.ipynb>data table notebook</a>'\n",
              "            + ' to learn more about interactive tables.';\n",
              "          element.innerHTML = '';\n",
              "          dataTable['output_type'] = 'display_data';\n",
              "          await google.colab.output.renderOutput(dataTable, element);\n",
              "          const docLink = document.createElement('div');\n",
              "          docLink.innerHTML = docLinkHtml;\n",
              "          element.appendChild(docLink);\n",
              "        }\n",
              "      </script>\n",
              "    </div>\n",
              "  </div>\n",
              "  "
            ],
            "text/plain": [
              "             overall  unixReviewTime\n",
              "count  361021.000000    3.610210e+05\n",
              "mean        4.104379    1.440871e+09\n",
              "std         1.365611    6.928741e+07\n",
              "min         1.000000    9.727776e+08\n",
              "25%         4.000000    1.416010e+09\n",
              "50%         5.000000    1.457136e+09\n",
              "75%         5.000000    1.485648e+09\n",
              "max         5.000000    1.535674e+09"
            ]
          },
          "metadata": {},
          "execution_count": 28
        }
      ],
      "id": "2KASH5rqtCFJ"
    },
    {
      "cell_type": "code",
      "source": [
        "# Distribution of rating \n",
        "ratings_trainings.overall.value_counts()"
      ],
      "metadata": {
        "id": "sSiqyd7lu1y4",
        "colab": {
          "base_uri": "https://localhost:8080/"
        },
        "outputId": "436500c0-68c1-44d1-8039-6568deec8655"
      },
      "execution_count": 29,
      "outputs": [
        {
          "output_type": "execute_result",
          "data": {
            "text/plain": [
              "5.0    222073\n",
              "4.0     51453\n",
              "1.0     38472\n",
              "3.0     29072\n",
              "2.0     19951\n",
              "Name: overall, dtype: int64"
            ]
          },
          "metadata": {},
          "execution_count": 29
        }
      ],
      "id": "sSiqyd7lu1y4"
    },
    {
      "cell_type": "code",
      "source": [
        "colors = sns.color_palette('pastel')[:5]\n",
        "ratings_trainings.overall.value_counts().plot.pie(\n",
        "    y = 'overall', \n",
        "    autopct=lambda p:f'{p: .1f}%', # , \\n{p*ratings_trainings.shape[0]/100 :,g}\n",
        "    colors = colors \n",
        ")\n",
        "plt.title('Distribution of rating')"
      ],
      "metadata": {
        "colab": {
          "base_uri": "https://localhost:8080/",
          "height": 281
        },
        "id": "Wjw08EId3KUI",
        "outputId": "738ae2fd-02e3-41dd-df23-c84438e2e4c3"
      },
      "execution_count": 30,
      "outputs": [
        {
          "output_type": "execute_result",
          "data": {
            "text/plain": [
              "Text(0.5, 1.0, 'Distribution of rating')"
            ]
          },
          "metadata": {},
          "execution_count": 30
        },
        {
          "output_type": "display_data",
          "data": {
            "image/png": "[encoded data removed]",
            "text/plain": [
              "<Figure size 432x288 with 1 Axes>"
            ]
          },
          "metadata": {}
        }
      ],
      "id": "Wjw08EId3KUI"
    },
    {
      "cell_type": "code",
      "source": [
        "# Distribution of average rating per item\n",
        "items_avg_rating = ratings_trainings.groupby(by = 'asin')[['overall']].mean()\n",
        "sns.histplot(data = items_avg_rating, x = 'overall')\n",
        "plt.title('Distribution of average rating')"
      ],
      "metadata": {
        "id": "8jSCMXCxyd5W",
        "colab": {
          "base_uri": "https://localhost:8080/",
          "height": 312
        },
        "outputId": "225c19a9-bd79-4612-c00d-7bbc2aefa8f0"
      },
      "execution_count": 31,
      "outputs": [
        {
          "output_type": "execute_result",
          "data": {
            "text/plain": [
              "Text(0.5, 1.0, 'Distribution of average rating')"
            ]
          },
          "metadata": {},
          "execution_count": 31
        },
        {
          "output_type": "display_data",
          "data": {
            "image/png": "[encoded data removed]",
            "text/plain": [
              "<Figure size 432x288 with 1 Axes>"
            ]
          },
          "metadata": {}
        }
      ],
      "id": "8jSCMXCxyd5W"
    },
    {
      "cell_type": "code",
      "source": [
        "print(f'{round((items_avg_rating.overall >= 4).sum()*100 / items_avg_rating.shape[0], 2)}% products have average rating >= 4')\n",
        "print(f'{round((items_avg_rating.overall >= 3).sum()*100 / items_avg_rating.shape[0], 2)}% products have average rating >= 3')\n",
        "print(f'{round((items_avg_rating.overall >= 2.5).sum()*100 / items_avg_rating.shape[0], 2)}% products have average rating >= 2.5')"
      ],
      "metadata": {
        "colab": {
          "base_uri": "https://localhost:8080/"
        },
        "id": "RJZvzhRliRza",
        "outputId": "1ad96374-3f34-489e-ec76-8c307e7ad3d3"
      },
      "execution_count": 33,
      "outputs": [
        {
          "output_type": "stream",
          "name": "stdout",
          "text": [
            "67.22% products have average rating >= 4\n",
            "86.27% products have average rating >= 3\n",
            "89.04% products have average rating >= 2.5\n"
          ]
        }
      ],
      "id": "RJZvzhRliRza"
    },
    {
      "cell_type": "markdown",
      "source": [
        "61.5% 的訂單都得到 5 顆星評價，86.3% 商品的平均評價皆 >= 3   \n",
        "--> 高評價可能無法有效區隔商品"
      ],
      "metadata": {
        "id": "TgoU3JDciHK-"
      },
      "id": "TgoU3JDciHK-"
    },
    {
      "cell_type": "markdown",
      "source": [
        "### Order"
      ],
      "metadata": {
        "id": "pL9k59-3hUjH"
      },
      "id": "pL9k59-3hUjH"
    },
    {
      "cell_type": "code",
      "source": [
        "# Distribution of order date\n",
        "sns.histplot(data = ratings_trainings, x = 'DATE', binwidth = (90)) \n",
        "plt.title ('# order per quarter')"
      ],
      "metadata": {
        "id": "CECT83Pjuu_0",
        "colab": {
          "base_uri": "https://localhost:8080/",
          "height": 312
        },
        "outputId": "cb6f5d15-31ef-43a1-dc87-4be216bc4fb2"
      },
      "execution_count": null,
      "outputs": [
        {
          "output_type": "execute_result",
          "data": {
            "text/plain": [
              "Text(0.5, 1.0, '# order per quarter')"
            ]
          },
          "metadata": {},
          "execution_count": 29
        },
        {
          "output_type": "display_data",
          "data": {
            "image/png": "[encoded data removed]",
            "text/plain": [
              "<Figure size 432x288 with 1 Axes>"
            ]
          },
          "metadata": {
            "needs_background": "light"
          }
        }
      ],
      "id": "CECT83Pjuu_0"
    },
    {
      "cell_type": "code",
      "source": [
        "# Distribution of order date & overall ratings\n",
        "sns.histplot(data = ratings_trainings, x = 'DATE', hue = 'overall', \n",
        "             multiple = 'fill',\n",
        "             binwidth = (90), palette = 'Set2') \n",
        "plt.title ('# order per quarter')"
      ],
      "metadata": {
        "colab": {
          "base_uri": "https://localhost:8080/",
          "height": 312
        },
        "id": "MGwYEztLsRL7",
        "outputId": "99f9e9e2-c952-4abd-d96f-66affc2cc925"
      },
      "execution_count": null,
      "outputs": [
        {
          "output_type": "execute_result",
          "data": {
            "text/plain": [
              "Text(0.5, 1.0, '# order per quarter')"
            ]
          },
          "metadata": {},
          "execution_count": 30
        },
        {
          "output_type": "display_data",
          "data": {
            "image/png": "[encoded data removed]",
            "text/plain": [
              "<Figure size 432x288 with 1 Axes>"
            ]
          },
          "metadata": {
            "needs_background": "light"
          }
        }
      ],
      "id": "MGwYEztLsRL7"
    },
    {
      "cell_type": "markdown",
      "source": [
        "### Sales"
      ],
      "metadata": {
        "id": "2eH7tb91hX3d"
      },
      "id": "2eH7tb91hX3d"
    },
    {
      "cell_type": "code",
      "source": [
        "# Distribution of product sales \n",
        "item_purchased_count = ratings_trainings.groupby(by = 'asin')[['reviewerID']].count()\n",
        "item_purchased_count.describe()"
      ],
      "metadata": {
        "id": "jiKWeJVVuJ-q",
        "colab": {
          "base_uri": "https://localhost:8080/",
          "height": 300
        },
        "outputId": "55b1a712-885e-4914-d955-ff5156b495bf"
      },
      "execution_count": null,
      "outputs": [
        {
          "output_type": "execute_result",
          "data": {
            "text/html": [
              "\n",
              "  <div id=\"df-f8ebc336-3e8b-49a3-ba2a-beeb8e63b26a\">\n",
              "    <div class=\"colab-df-container\">\n",
              "      <div>\n",
              "<style scoped>\n",
              "    .dataframe tbody tr th:only-of-type {\n",
              "        vertical-align: middle;\n",
              "    }\n",
              "\n",
              "    .dataframe tbody tr th {\n",
              "        vertical-align: top;\n",
              "    }\n",
              "\n",
              "    .dataframe thead th {\n",
              "        text-align: right;\n",
              "    }\n",
              "</style>\n",
              "<table border=\"1\" class=\"dataframe\">\n",
              "  <thead>\n",
              "    <tr style=\"text-align: right;\">\n",
              "      <th></th>\n",
              "      <th>reviewerID</th>\n",
              "    </tr>\n",
              "  </thead>\n",
              "  <tbody>\n",
              "    <tr>\n",
              "      <th>count</th>\n",
              "      <td>32009.000000</td>\n",
              "    </tr>\n",
              "    <tr>\n",
              "      <th>mean</th>\n",
              "      <td>11.278734</td>\n",
              "    </tr>\n",
              "    <tr>\n",
              "      <th>std</th>\n",
              "      <td>94.291277</td>\n",
              "    </tr>\n",
              "    <tr>\n",
              "      <th>min</th>\n",
              "      <td>1.000000</td>\n",
              "    </tr>\n",
              "    <tr>\n",
              "      <th>25%</th>\n",
              "      <td>1.000000</td>\n",
              "    </tr>\n",
              "    <tr>\n",
              "      <th>50%</th>\n",
              "      <td>2.000000</td>\n",
              "    </tr>\n",
              "    <tr>\n",
              "      <th>75%</th>\n",
              "      <td>5.000000</td>\n",
              "    </tr>\n",
              "    <tr>\n",
              "      <th>max</th>\n",
              "      <td>8672.000000</td>\n",
              "    </tr>\n",
              "  </tbody>\n",
              "</table>\n",
              "</div>\n",
              "      <button class=\"colab-df-convert\" onclick=\"convertToInteractive('df-f8ebc336-3e8b-49a3-ba2a-beeb8e63b26a')\"\n",
              "              title=\"Convert this dataframe to an interactive table.\"\n",
              "              style=\"display:none;\">\n",
              "        \n",
              "  <svg xmlns=\"http://www.w3.org/2000/svg\" height=\"24px\"viewBox=\"0 0 24 24\"\n",
              "       width=\"24px\">\n",
              "    <path d=\"M0 0h24v24H0V0z\" fill=\"none\"/>\n",
              "    <path d=\"M18.56 5.44l.94 2.06.94-2.06 2.06-.94-2.06-.94-.94-2.06-.94 2.06-2.06.94zm-11 1L8.5 8.5l.94-2.06 2.06-.94-2.06-.94L8.5 2.5l-.94 2.06-2.06.94zm10 10l.94 2.06.94-2.06 2.06-.94-2.06-.94-.94-2.06-.94 2.06-2.06.94z\"/><path d=\"M17.41 7.96l-1.37-1.37c-.4-.4-.92-.59-1.43-.59-.52 0-1.04.2-1.43.59L10.3 9.45l-7.72 7.72c-.78.78-.78 2.05 0 2.83L4 21.41c.39.39.9.59 1.41.59.51 0 1.02-.2 1.41-.59l7.78-7.78 2.81-2.81c.8-.78.8-2.07 0-2.86zM5.41 20L4 18.59l7.72-7.72 1.47 1.35L5.41 20z\"/>\n",
              "  </svg>\n",
              "      </button>\n",
              "      \n",
              "  <style>\n",
              "    .colab-df-container {\n",
              "      display:flex;\n",
              "      flex-wrap:wrap;\n",
              "      gap: 12px;\n",
              "    }\n",
              "\n",
              "    .colab-df-convert {\n",
              "      background-color: #E8F0FE;\n",
              "      border: none;\n",
              "      border-radius: 50%;\n",
              "      cursor: pointer;\n",
              "      display: none;\n",
              "      fill: #1967D2;\n",
              "      height: 32px;\n",
              "      padding: 0 0 0 0;\n",
              "      width: 32px;\n",
              "    }\n",
              "\n",
              "    .colab-df-convert:hover {\n",
              "      background-color: #E2EBFA;\n",
              "      box-shadow: 0px 1px 2px rgba(60, 64, 67, 0.3), 0px 1px 3px 1px rgba(60, 64, 67, 0.15);\n",
              "      fill: #174EA6;\n",
              "    }\n",
              "\n",
              "    [theme=dark] .colab-df-convert {\n",
              "      background-color: #3B4455;\n",
              "      fill: #D2E3FC;\n",
              "    }\n",
              "\n",
              "    [theme=dark] .colab-df-convert:hover {\n",
              "      background-color: #434B5C;\n",
              "      box-shadow: 0px 1px 3px 1px rgba(0, 0, 0, 0.15);\n",
              "      filter: drop-shadow(0px 1px 2px rgba(0, 0, 0, 0.3));\n",
              "      fill: #FFFFFF;\n",
              "    }\n",
              "  </style>\n",
              "\n",
              "      <script>\n",
              "        const buttonEl =\n",
              "          document.querySelector('#df-f8ebc336-3e8b-49a3-ba2a-beeb8e63b26a button.colab-df-convert');\n",
              "        buttonEl.style.display =\n",
              "          google.colab.kernel.accessAllowed ? 'block' : 'none';\n",
              "\n",
              "        async function convertToInteractive(key) {\n",
              "          const element = document.querySelector('#df-f8ebc336-3e8b-49a3-ba2a-beeb8e63b26a');\n",
              "          const dataTable =\n",
              "            await google.colab.kernel.invokeFunction('convertToInteractive',\n",
              "                                                     [key], {});\n",
              "          if (!dataTable) return;\n",
              "\n",
              "          const docLinkHtml = 'Like what you see? Visit the ' +\n",
              "            '<a target=\"_blank\" href=https://colab.research.google.com/notebooks/data_table.ipynb>data table notebook</a>'\n",
              "            + ' to learn more about interactive tables.';\n",
              "          element.innerHTML = '';\n",
              "          dataTable['output_type'] = 'display_data';\n",
              "          await google.colab.output.renderOutput(dataTable, element);\n",
              "          const docLink = document.createElement('div');\n",
              "          docLink.innerHTML = docLinkHtml;\n",
              "          element.appendChild(docLink);\n",
              "        }\n",
              "      </script>\n",
              "    </div>\n",
              "  </div>\n",
              "  "
            ],
            "text/plain": [
              "         reviewerID\n",
              "count  32009.000000\n",
              "mean      11.278734\n",
              "std       94.291277\n",
              "min        1.000000\n",
              "25%        1.000000\n",
              "50%        2.000000\n",
              "75%        5.000000\n",
              "max     8672.000000"
            ]
          },
          "metadata": {},
          "execution_count": 31
        }
      ],
      "id": "jiKWeJVVuJ-q"
    },
    {
      "cell_type": "code",
      "source": [
        "# All top 10 items \n",
        "top10_items_lst = item_purchased_count.reset_index().sort_values('reviewerID', ascending = False).head(10).asin.tolist()\n",
        "top10_items = ratings_trainings[ratings_trainings.asin.isin(top10_items_lst)]\n",
        "# sort by sales\n",
        "top10_items = top10_items.set_index('asin').loc[top10_items_lst].reset_index()\n",
        "top10_items.head()"
      ],
      "metadata": {
        "colab": {
          "base_uri": "https://localhost:8080/",
          "height": 206
        },
        "id": "88gz_EBpRlVn",
        "outputId": "739f58f2-62d1-42ef-9523-211bdfc2c6c0"
      },
      "execution_count": null,
      "outputs": [
        {
          "output_type": "execute_result",
          "data": {
            "text/html": [
              "\n",
              "  <div id=\"df-167ee4b9-8f6e-42bb-a800-e01323990028\">\n",
              "    <div class=\"colab-df-container\">\n",
              "      <div>\n",
              "<style scoped>\n",
              "    .dataframe tbody tr th:only-of-type {\n",
              "        vertical-align: middle;\n",
              "    }\n",
              "\n",
              "    .dataframe tbody tr th {\n",
              "        vertical-align: top;\n",
              "    }\n",
              "\n",
              "    .dataframe thead th {\n",
              "        text-align: right;\n",
              "    }\n",
              "</style>\n",
              "<table border=\"1\" class=\"dataframe\">\n",
              "  <thead>\n",
              "    <tr style=\"text-align: right;\">\n",
              "      <th></th>\n",
              "      <th>asin</th>\n",
              "      <th>reviewerID</th>\n",
              "      <th>overall</th>\n",
              "      <th>unixReviewTime</th>\n",
              "      <th>DATE</th>\n",
              "    </tr>\n",
              "  </thead>\n",
              "  <tbody>\n",
              "    <tr>\n",
              "      <th>0</th>\n",
              "      <td>B000FOI48G</td>\n",
              "      <td>A213675GUCM3PV</td>\n",
              "      <td>1.0</td>\n",
              "      <td>1150848000</td>\n",
              "      <td>2006-06-21</td>\n",
              "    </tr>\n",
              "    <tr>\n",
              "      <th>1</th>\n",
              "      <td>B000FOI48G</td>\n",
              "      <td>AISWP2UHZT1S8</td>\n",
              "      <td>1.0</td>\n",
              "      <td>1150848000</td>\n",
              "      <td>2006-06-21</td>\n",
              "    </tr>\n",
              "    <tr>\n",
              "      <th>2</th>\n",
              "      <td>B000FOI48G</td>\n",
              "      <td>A4X295XP5LNY5</td>\n",
              "      <td>3.0</td>\n",
              "      <td>1147305600</td>\n",
              "      <td>2006-05-11</td>\n",
              "    </tr>\n",
              "    <tr>\n",
              "      <th>3</th>\n",
              "      <td>B000FOI48G</td>\n",
              "      <td>AJ1D427NCYOJ6</td>\n",
              "      <td>5.0</td>\n",
              "      <td>1146700800</td>\n",
              "      <td>2006-05-04</td>\n",
              "    </tr>\n",
              "    <tr>\n",
              "      <th>4</th>\n",
              "      <td>B000FOI48G</td>\n",
              "      <td>A39VRTC4O3SHQH</td>\n",
              "      <td>5.0</td>\n",
              "      <td>1529193600</td>\n",
              "      <td>2018-06-17</td>\n",
              "    </tr>\n",
              "  </tbody>\n",
              "</table>\n",
              "</div>\n",
              "      <button class=\"colab-df-convert\" onclick=\"convertToInteractive('df-167ee4b9-8f6e-42bb-a800-e01323990028')\"\n",
              "              title=\"Convert this dataframe to an interactive table.\"\n",
              "              style=\"display:none;\">\n",
              "        \n",
              "  <svg xmlns=\"http://www.w3.org/2000/svg\" height=\"24px\"viewBox=\"0 0 24 24\"\n",
              "       width=\"24px\">\n",
              "    <path d=\"M0 0h24v24H0V0z\" fill=\"none\"/>\n",
              "    <path d=\"M18.56 5.44l.94 2.06.94-2.06 2.06-.94-2.06-.94-.94-2.06-.94 2.06-2.06.94zm-11 1L8.5 8.5l.94-2.06 2.06-.94-2.06-.94L8.5 2.5l-.94 2.06-2.06.94zm10 10l.94 2.06.94-2.06 2.06-.94-2.06-.94-.94-2.06-.94 2.06-2.06.94z\"/><path d=\"M17.41 7.96l-1.37-1.37c-.4-.4-.92-.59-1.43-.59-.52 0-1.04.2-1.43.59L10.3 9.45l-7.72 7.72c-.78.78-.78 2.05 0 2.83L4 21.41c.39.39.9.59 1.41.59.51 0 1.02-.2 1.41-.59l7.78-7.78 2.81-2.81c.8-.78.8-2.07 0-2.86zM5.41 20L4 18.59l7.72-7.72 1.47 1.35L5.41 20z\"/>\n",
              "  </svg>\n",
              "      </button>\n",
              "      \n",
              "  <style>\n",
              "    .colab-df-container {\n",
              "      display:flex;\n",
              "      flex-wrap:wrap;\n",
              "      gap: 12px;\n",
              "    }\n",
              "\n",
              "    .colab-df-convert {\n",
              "      background-color: #E8F0FE;\n",
              "      border: none;\n",
              "      border-radius: 50%;\n",
              "      cursor: pointer;\n",
              "      display: none;\n",
              "      fill: #1967D2;\n",
              "      height: 32px;\n",
              "      padding: 0 0 0 0;\n",
              "      width: 32px;\n",
              "    }\n",
              "\n",
              "    .colab-df-convert:hover {\n",
              "      background-color: #E2EBFA;\n",
              "      box-shadow: 0px 1px 2px rgba(60, 64, 67, 0.3), 0px 1px 3px 1px rgba(60, 64, 67, 0.15);\n",
              "      fill: #174EA6;\n",
              "    }\n",
              "\n",
              "    [theme=dark] .colab-df-convert {\n",
              "      background-color: #3B4455;\n",
              "      fill: #D2E3FC;\n",
              "    }\n",
              "\n",
              "    [theme=dark] .colab-df-convert:hover {\n",
              "      background-color: #434B5C;\n",
              "      box-shadow: 0px 1px 3px 1px rgba(0, 0, 0, 0.15);\n",
              "      filter: drop-shadow(0px 1px 2px rgba(0, 0, 0, 0.3));\n",
              "      fill: #FFFFFF;\n",
              "    }\n",
              "  </style>\n",
              "\n",
              "      <script>\n",
              "        const buttonEl =\n",
              "          document.querySelector('#df-167ee4b9-8f6e-42bb-a800-e01323990028 button.colab-df-convert');\n",
              "        buttonEl.style.display =\n",
              "          google.colab.kernel.accessAllowed ? 'block' : 'none';\n",
              "\n",
              "        async function convertToInteractive(key) {\n",
              "          const element = document.querySelector('#df-167ee4b9-8f6e-42bb-a800-e01323990028');\n",
              "          const dataTable =\n",
              "            await google.colab.kernel.invokeFunction('convertToInteractive',\n",
              "                                                     [key], {});\n",
              "          if (!dataTable) return;\n",
              "\n",
              "          const docLinkHtml = 'Like what you see? Visit the ' +\n",
              "            '<a target=\"_blank\" href=https://colab.research.google.com/notebooks/data_table.ipynb>data table notebook</a>'\n",
              "            + ' to learn more about interactive tables.';\n",
              "          element.innerHTML = '';\n",
              "          dataTable['output_type'] = 'display_data';\n",
              "          await google.colab.output.renderOutput(dataTable, element);\n",
              "          const docLink = document.createElement('div');\n",
              "          docLink.innerHTML = docLinkHtml;\n",
              "          element.appendChild(docLink);\n",
              "        }\n",
              "      </script>\n",
              "    </div>\n",
              "  </div>\n",
              "  "
            ],
            "text/plain": [
              "         asin      reviewerID  overall  unixReviewTime       DATE\n",
              "0  B000FOI48G  A213675GUCM3PV      1.0      1150848000 2006-06-21\n",
              "1  B000FOI48G   AISWP2UHZT1S8      1.0      1150848000 2006-06-21\n",
              "2  B000FOI48G   A4X295XP5LNY5      3.0      1147305600 2006-05-11\n",
              "3  B000FOI48G   AJ1D427NCYOJ6      5.0      1146700800 2006-05-04\n",
              "4  B000FOI48G  A39VRTC4O3SHQH      5.0      1529193600 2018-06-17"
            ]
          },
          "metadata": {},
          "execution_count": 128
        }
      ],
      "id": "88gz_EBpRlVn"
    },
    {
      "cell_type": "code",
      "source": [
        "# last year top 10 items \n",
        "item_purchased_count_year = ratings_trainings[ratings_trainings.DATE >= '2017-09-01'].\\\n",
        "    groupby(by = 'asin')[['reviewerID']].count()\n",
        "\n",
        "top10_items_year_lst = item_purchased_count_year.reset_index().sort_values('reviewerID', ascending = False).head(10).asin.tolist()\n",
        "top10_items_year = ratings_trainings[ratings_trainings.asin.isin(top10_items_year_lst)]\n",
        "# sort by sales\n",
        "top10_items_year = top10_items_year.set_index('asin').loc[top10_items_year_lst].reset_index()\n",
        "top10_items_year.head()"
      ],
      "metadata": {
        "colab": {
          "base_uri": "https://localhost:8080/",
          "height": 206
        },
        "id": "s0bAK8i8jZvO",
        "outputId": "40dc65ef-773e-4962-e936-af2598f72344"
      },
      "execution_count": null,
      "outputs": [
        {
          "output_type": "execute_result",
          "data": {
            "text/html": [
              "\n",
              "  <div id=\"df-a00c2dab-ee67-4d40-a1db-48fdd2f4eb9b\">\n",
              "    <div class=\"colab-df-container\">\n",
              "      <div>\n",
              "<style scoped>\n",
              "    .dataframe tbody tr th:only-of-type {\n",
              "        vertical-align: middle;\n",
              "    }\n",
              "\n",
              "    .dataframe tbody tr th {\n",
              "        vertical-align: top;\n",
              "    }\n",
              "\n",
              "    .dataframe thead th {\n",
              "        text-align: right;\n",
              "    }\n",
              "</style>\n",
              "<table border=\"1\" class=\"dataframe\">\n",
              "  <thead>\n",
              "    <tr style=\"text-align: right;\">\n",
              "      <th></th>\n",
              "      <th>asin</th>\n",
              "      <th>reviewerID</th>\n",
              "      <th>overall</th>\n",
              "      <th>unixReviewTime</th>\n",
              "      <th>DATE</th>\n",
              "    </tr>\n",
              "  </thead>\n",
              "  <tbody>\n",
              "    <tr>\n",
              "      <th>0</th>\n",
              "      <td>B01DKQAXC0</td>\n",
              "      <td>A2PSPEPE6KXP19</td>\n",
              "      <td>5.0</td>\n",
              "      <td>1442880000</td>\n",
              "      <td>2015-09-22</td>\n",
              "    </tr>\n",
              "    <tr>\n",
              "      <th>1</th>\n",
              "      <td>B01DKQAXC0</td>\n",
              "      <td>A5KF1QROM0DGR</td>\n",
              "      <td>5.0</td>\n",
              "      <td>1442880000</td>\n",
              "      <td>2015-09-22</td>\n",
              "    </tr>\n",
              "    <tr>\n",
              "      <th>2</th>\n",
              "      <td>B01DKQAXC0</td>\n",
              "      <td>A3T8QVVGBTV7SM</td>\n",
              "      <td>5.0</td>\n",
              "      <td>1442880000</td>\n",
              "      <td>2015-09-22</td>\n",
              "    </tr>\n",
              "    <tr>\n",
              "      <th>3</th>\n",
              "      <td>B01DKQAXC0</td>\n",
              "      <td>A1318WDRRWU8LC</td>\n",
              "      <td>5.0</td>\n",
              "      <td>1442793600</td>\n",
              "      <td>2015-09-21</td>\n",
              "    </tr>\n",
              "    <tr>\n",
              "      <th>4</th>\n",
              "      <td>B01DKQAXC0</td>\n",
              "      <td>A3N0UXDNWGUQ2H</td>\n",
              "      <td>5.0</td>\n",
              "      <td>1442793600</td>\n",
              "      <td>2015-09-21</td>\n",
              "    </tr>\n",
              "  </tbody>\n",
              "</table>\n",
              "</div>\n",
              "      <button class=\"colab-df-convert\" onclick=\"convertToInteractive('df-a00c2dab-ee67-4d40-a1db-48fdd2f4eb9b')\"\n",
              "              title=\"Convert this dataframe to an interactive table.\"\n",
              "              style=\"display:none;\">\n",
              "        \n",
              "  <svg xmlns=\"http://www.w3.org/2000/svg\" height=\"24px\"viewBox=\"0 0 24 24\"\n",
              "       width=\"24px\">\n",
              "    <path d=\"M0 0h24v24H0V0z\" fill=\"none\"/>\n",
              "    <path d=\"M18.56 5.44l.94 2.06.94-2.06 2.06-.94-2.06-.94-.94-2.06-.94 2.06-2.06.94zm-11 1L8.5 8.5l.94-2.06 2.06-.94-2.06-.94L8.5 2.5l-.94 2.06-2.06.94zm10 10l.94 2.06.94-2.06 2.06-.94-2.06-.94-.94-2.06-.94 2.06-2.06.94z\"/><path d=\"M17.41 7.96l-1.37-1.37c-.4-.4-.92-.59-1.43-.59-.52 0-1.04.2-1.43.59L10.3 9.45l-7.72 7.72c-.78.78-.78 2.05 0 2.83L4 21.41c.39.39.9.59 1.41.59.51 0 1.02-.2 1.41-.59l7.78-7.78 2.81-2.81c.8-.78.8-2.07 0-2.86zM5.41 20L4 18.59l7.72-7.72 1.47 1.35L5.41 20z\"/>\n",
              "  </svg>\n",
              "      </button>\n",
              "      \n",
              "  <style>\n",
              "    .colab-df-container {\n",
              "      display:flex;\n",
              "      flex-wrap:wrap;\n",
              "      gap: 12px;\n",
              "    }\n",
              "\n",
              "    .colab-df-convert {\n",
              "      background-color: #E8F0FE;\n",
              "      border: none;\n",
              "      border-radius: 50%;\n",
              "      cursor: pointer;\n",
              "      display: none;\n",
              "      fill: #1967D2;\n",
              "      height: 32px;\n",
              "      padding: 0 0 0 0;\n",
              "      width: 32px;\n",
              "    }\n",
              "\n",
              "    .colab-df-convert:hover {\n",
              "      background-color: #E2EBFA;\n",
              "      box-shadow: 0px 1px 2px rgba(60, 64, 67, 0.3), 0px 1px 3px 1px rgba(60, 64, 67, 0.15);\n",
              "      fill: #174EA6;\n",
              "    }\n",
              "\n",
              "    [theme=dark] .colab-df-convert {\n",
              "      background-color: #3B4455;\n",
              "      fill: #D2E3FC;\n",
              "    }\n",
              "\n",
              "    [theme=dark] .colab-df-convert:hover {\n",
              "      background-color: #434B5C;\n",
              "      box-shadow: 0px 1px 3px 1px rgba(0, 0, 0, 0.15);\n",
              "      filter: drop-shadow(0px 1px 2px rgba(0, 0, 0, 0.3));\n",
              "      fill: #FFFFFF;\n",
              "    }\n",
              "  </style>\n",
              "\n",
              "      <script>\n",
              "        const buttonEl =\n",
              "          document.querySelector('#df-a00c2dab-ee67-4d40-a1db-48fdd2f4eb9b button.colab-df-convert');\n",
              "        buttonEl.style.display =\n",
              "          google.colab.kernel.accessAllowed ? 'block' : 'none';\n",
              "\n",
              "        async function convertToInteractive(key) {\n",
              "          const element = document.querySelector('#df-a00c2dab-ee67-4d40-a1db-48fdd2f4eb9b');\n",
              "          const dataTable =\n",
              "            await google.colab.kernel.invokeFunction('convertToInteractive',\n",
              "                                                     [key], {});\n",
              "          if (!dataTable) return;\n",
              "\n",
              "          const docLinkHtml = 'Like what you see? Visit the ' +\n",
              "            '<a target=\"_blank\" href=https://colab.research.google.com/notebooks/data_table.ipynb>data table notebook</a>'\n",
              "            + ' to learn more about interactive tables.';\n",
              "          element.innerHTML = '';\n",
              "          dataTable['output_type'] = 'display_data';\n",
              "          await google.colab.output.renderOutput(dataTable, element);\n",
              "          const docLink = document.createElement('div');\n",
              "          docLink.innerHTML = docLinkHtml;\n",
              "          element.appendChild(docLink);\n",
              "        }\n",
              "      </script>\n",
              "    </div>\n",
              "  </div>\n",
              "  "
            ],
            "text/plain": [
              "         asin      reviewerID  overall  unixReviewTime       DATE\n",
              "0  B01DKQAXC0  A2PSPEPE6KXP19      5.0      1442880000 2015-09-22\n",
              "1  B01DKQAXC0   A5KF1QROM0DGR      5.0      1442880000 2015-09-22\n",
              "2  B01DKQAXC0  A3T8QVVGBTV7SM      5.0      1442880000 2015-09-22\n",
              "3  B01DKQAXC0  A1318WDRRWU8LC      5.0      1442793600 2015-09-21\n",
              "4  B01DKQAXC0  A3N0UXDNWGUQ2H      5.0      1442793600 2015-09-21"
            ]
          },
          "metadata": {},
          "execution_count": 127
        }
      ],
      "id": "s0bAK8i8jZvO"
    },
    {
      "cell_type": "code",
      "source": [
        "# last month top 10 items \n",
        "item_purchased_count_month = ratings_trainings[ratings_trainings.DATE >= '2018-08-01'].\\\n",
        "    groupby(by = 'asin')[['reviewerID']].count()\n",
        "\n",
        "top10_items_month_lst = item_purchased_count_month.reset_index().sort_values('reviewerID', ascending = False).head(10).asin.tolist()\n",
        "top10_items_month = ratings_trainings[ratings_trainings.asin.isin(top10_items_month_lst)]\n",
        "# sort by sales\n",
        "top10_items_month = top10_items_month.set_index('asin').loc[top10_items_month_lst].reset_index()\n",
        "top10_items_month.head()"
      ],
      "metadata": {
        "colab": {
          "base_uri": "https://localhost:8080/",
          "height": 206
        },
        "id": "rps1Fi7PWJMu",
        "outputId": "04c49f1b-b5d4-4241-9356-3e6bc7d37d92"
      },
      "execution_count": null,
      "outputs": [
        {
          "output_type": "execute_result",
          "data": {
            "text/html": [
              "\n",
              "  <div id=\"df-41e1560d-eaa5-478e-8d47-1c7a7ef5919a\">\n",
              "    <div class=\"colab-df-container\">\n",
              "      <div>\n",
              "<style scoped>\n",
              "    .dataframe tbody tr th:only-of-type {\n",
              "        vertical-align: middle;\n",
              "    }\n",
              "\n",
              "    .dataframe tbody tr th {\n",
              "        vertical-align: top;\n",
              "    }\n",
              "\n",
              "    .dataframe thead th {\n",
              "        text-align: right;\n",
              "    }\n",
              "</style>\n",
              "<table border=\"1\" class=\"dataframe\">\n",
              "  <thead>\n",
              "    <tr style=\"text-align: right;\">\n",
              "      <th></th>\n",
              "      <th>asin</th>\n",
              "      <th>reviewerID</th>\n",
              "      <th>overall</th>\n",
              "      <th>unixReviewTime</th>\n",
              "      <th>DATE</th>\n",
              "    </tr>\n",
              "  </thead>\n",
              "  <tbody>\n",
              "    <tr>\n",
              "      <th>0</th>\n",
              "      <td>B01DKQAXC0</td>\n",
              "      <td>A2PSPEPE6KXP19</td>\n",
              "      <td>5.0</td>\n",
              "      <td>1442880000</td>\n",
              "      <td>2015-09-22</td>\n",
              "    </tr>\n",
              "    <tr>\n",
              "      <th>1</th>\n",
              "      <td>B01DKQAXC0</td>\n",
              "      <td>A5KF1QROM0DGR</td>\n",
              "      <td>5.0</td>\n",
              "      <td>1442880000</td>\n",
              "      <td>2015-09-22</td>\n",
              "    </tr>\n",
              "    <tr>\n",
              "      <th>2</th>\n",
              "      <td>B01DKQAXC0</td>\n",
              "      <td>A3T8QVVGBTV7SM</td>\n",
              "      <td>5.0</td>\n",
              "      <td>1442880000</td>\n",
              "      <td>2015-09-22</td>\n",
              "    </tr>\n",
              "    <tr>\n",
              "      <th>3</th>\n",
              "      <td>B01DKQAXC0</td>\n",
              "      <td>A1318WDRRWU8LC</td>\n",
              "      <td>5.0</td>\n",
              "      <td>1442793600</td>\n",
              "      <td>2015-09-21</td>\n",
              "    </tr>\n",
              "    <tr>\n",
              "      <th>4</th>\n",
              "      <td>B01DKQAXC0</td>\n",
              "      <td>A3N0UXDNWGUQ2H</td>\n",
              "      <td>5.0</td>\n",
              "      <td>1442793600</td>\n",
              "      <td>2015-09-21</td>\n",
              "    </tr>\n",
              "  </tbody>\n",
              "</table>\n",
              "</div>\n",
              "      <button class=\"colab-df-convert\" onclick=\"convertToInteractive('df-41e1560d-eaa5-478e-8d47-1c7a7ef5919a')\"\n",
              "              title=\"Convert this dataframe to an interactive table.\"\n",
              "              style=\"display:none;\">\n",
              "        \n",
              "  <svg xmlns=\"http://www.w3.org/2000/svg\" height=\"24px\"viewBox=\"0 0 24 24\"\n",
              "       width=\"24px\">\n",
              "    <path d=\"M0 0h24v24H0V0z\" fill=\"none\"/>\n",
              "    <path d=\"M18.56 5.44l.94 2.06.94-2.06 2.06-.94-2.06-.94-.94-2.06-.94 2.06-2.06.94zm-11 1L8.5 8.5l.94-2.06 2.06-.94-2.06-.94L8.5 2.5l-.94 2.06-2.06.94zm10 10l.94 2.06.94-2.06 2.06-.94-2.06-.94-.94-2.06-.94 2.06-2.06.94z\"/><path d=\"M17.41 7.96l-1.37-1.37c-.4-.4-.92-.59-1.43-.59-.52 0-1.04.2-1.43.59L10.3 9.45l-7.72 7.72c-.78.78-.78 2.05 0 2.83L4 21.41c.39.39.9.59 1.41.59.51 0 1.02-.2 1.41-.59l7.78-7.78 2.81-2.81c.8-.78.8-2.07 0-2.86zM5.41 20L4 18.59l7.72-7.72 1.47 1.35L5.41 20z\"/>\n",
              "  </svg>\n",
              "      </button>\n",
              "      \n",
              "  <style>\n",
              "    .colab-df-container {\n",
              "      display:flex;\n",
              "      flex-wrap:wrap;\n",
              "      gap: 12px;\n",
              "    }\n",
              "\n",
              "    .colab-df-convert {\n",
              "      background-color: #E8F0FE;\n",
              "      border: none;\n",
              "      border-radius: 50%;\n",
              "      cursor: pointer;\n",
              "      display: none;\n",
              "      fill: #1967D2;\n",
              "      height: 32px;\n",
              "      padding: 0 0 0 0;\n",
              "      width: 32px;\n",
              "    }\n",
              "\n",
              "    .colab-df-convert:hover {\n",
              "      background-color: #E2EBFA;\n",
              "      box-shadow: 0px 1px 2px rgba(60, 64, 67, 0.3), 0px 1px 3px 1px rgba(60, 64, 67, 0.15);\n",
              "      fill: #174EA6;\n",
              "    }\n",
              "\n",
              "    [theme=dark] .colab-df-convert {\n",
              "      background-color: #3B4455;\n",
              "      fill: #D2E3FC;\n",
              "    }\n",
              "\n",
              "    [theme=dark] .colab-df-convert:hover {\n",
              "      background-color: #434B5C;\n",
              "      box-shadow: 0px 1px 3px 1px rgba(0, 0, 0, 0.15);\n",
              "      filter: drop-shadow(0px 1px 2px rgba(0, 0, 0, 0.3));\n",
              "      fill: #FFFFFF;\n",
              "    }\n",
              "  </style>\n",
              "\n",
              "      <script>\n",
              "        const buttonEl =\n",
              "          document.querySelector('#df-41e1560d-eaa5-478e-8d47-1c7a7ef5919a button.colab-df-convert');\n",
              "        buttonEl.style.display =\n",
              "          google.colab.kernel.accessAllowed ? 'block' : 'none';\n",
              "\n",
              "        async function convertToInteractive(key) {\n",
              "          const element = document.querySelector('#df-41e1560d-eaa5-478e-8d47-1c7a7ef5919a');\n",
              "          const dataTable =\n",
              "            await google.colab.kernel.invokeFunction('convertToInteractive',\n",
              "                                                     [key], {});\n",
              "          if (!dataTable) return;\n",
              "\n",
              "          const docLinkHtml = 'Like what you see? Visit the ' +\n",
              "            '<a target=\"_blank\" href=https://colab.research.google.com/notebooks/data_table.ipynb>data table notebook</a>'\n",
              "            + ' to learn more about interactive tables.';\n",
              "          element.innerHTML = '';\n",
              "          dataTable['output_type'] = 'display_data';\n",
              "          await google.colab.output.renderOutput(dataTable, element);\n",
              "          const docLink = document.createElement('div');\n",
              "          docLink.innerHTML = docLinkHtml;\n",
              "          element.appendChild(docLink);\n",
              "        }\n",
              "      </script>\n",
              "    </div>\n",
              "  </div>\n",
              "  "
            ],
            "text/plain": [
              "         asin      reviewerID  overall  unixReviewTime       DATE\n",
              "0  B01DKQAXC0  A2PSPEPE6KXP19      5.0      1442880000 2015-09-22\n",
              "1  B01DKQAXC0   A5KF1QROM0DGR      5.0      1442880000 2015-09-22\n",
              "2  B01DKQAXC0  A3T8QVVGBTV7SM      5.0      1442880000 2015-09-22\n",
              "3  B01DKQAXC0  A1318WDRRWU8LC      5.0      1442793600 2015-09-21\n",
              "4  B01DKQAXC0  A3N0UXDNWGUQ2H      5.0      1442793600 2015-09-21"
            ]
          },
          "metadata": {},
          "execution_count": 126
        }
      ],
      "id": "rps1Fi7PWJMu"
    },
    {
      "cell_type": "code",
      "source": [
        "fig, axs = plt.subplots(10, 3, sharex = True, sharey = True, figsize = (12, 10))\n",
        "d = top10_items.groupby(['asin', 'DATE']).count().reset_index()\n",
        "for i, a in enumerate(top10_items.asin.unique()):\n",
        "    sns.histplot(data = d[d.asin == a], \n",
        "                x = 'DATE', hue = 'asin', palette = 'tab20', \n",
        "                legend = False, binwidth = (90), ax = axs[i, 0]\n",
        ")\n",
        "\n",
        "d_year = top10_items_year.groupby(['asin', 'DATE']).count().reset_index()\n",
        "for i, a in enumerate(top10_items_year.asin.unique()):\n",
        "    sns.histplot(data = d_year[d_year.asin == a], \n",
        "                x = 'DATE', hue = 'asin', palette = 'tab20', \n",
        "                legend = False, binwidth = (90), ax = axs[i, 1]\n",
        ")\n",
        "\n",
        "d_month = top10_items_month.groupby(['asin', 'DATE']).count().reset_index()\n",
        "for i, a in enumerate(top10_items_month.asin.unique()):\n",
        "    sns.histplot(data = d_month[d_month.asin == a], \n",
        "                x = 'DATE', hue = 'asin', palette = 'tab20', \n",
        "                legend = False, binwidth = (90), ax = axs[i, 2]\n",
        ")\n",
        "\n",
        "plt.tight_layout()\n",
        "plt.suptitle('Sales date of top 10 items')\n",
        "axs[0, 0].set_title('All data')\n",
        "axs[0, 1].set_title('Last year data')\n",
        "axs[0, 2].set_title('Last month data')\n",
        "fig.subplots_adjust(top = 0.92, hspace=-.01)\n",
        "sns.despine()\n",
        "\n",
        "plt.xlim(datetime.datetime(2000,1,10), datetime.datetime(2018,9,1))\n",
        "fig.savefig('/content/img/sales_date_top10_items.jpg', bbox_inches='tight')"
      ],
      "metadata": {
        "colab": {
          "base_uri": "https://localhost:8080/",
          "height": 724
        },
        "id": "21OKCgqH2J0I",
        "outputId": "0990e23e-c890-4ad4-80e4-797110952d38"
      },
      "execution_count": null,
      "outputs": [
        {
          "output_type": "display_data",
          "data": {
            "image/png": "[encoded data removed]",
            "text/plain": [
              "<Figure size 864x720 with 30 Axes>"
            ]
          },
          "metadata": {}
        }
      ],
      "id": "21OKCgqH2J0I"
    },
    {
      "cell_type": "code",
      "source": [
        "# rank v.s. sales\n",
        "product_sales_rating = ratings_trainings.groupby(by = 'asin')[['overall']].agg(['count', 'mean'])\n",
        "product_sales_rating.columns = product_sales_rating.columns.droplevel(0)\n",
        "rank_sales = product_sales_rating.reset_index().merge(metadata_clean[['asin', 'rank_num']], on = 'asin', how = 'left')\n",
        "rank_sales.rename({'count': 'sales', 'mean': 'avg_rating'}, axis = 1, inplace = True)\n",
        "\n",
        "g = sns.scatterplot(data = rank_sales, x = 'sales', y = 'rank_num', \n",
        "                    # hue = 'avg_rating',\n",
        "                    alpha = 0.6)\n",
        "g.set(xscale = 'log')\n",
        "plt.title('Distribution of sales & rank')"
      ],
      "metadata": {
        "colab": {
          "base_uri": "https://localhost:8080/",
          "height": 324
        },
        "id": "z7q1U-nuTDOL",
        "outputId": "bfc2b9b9-43db-456c-af21-f6d740525665"
      },
      "execution_count": null,
      "outputs": [
        {
          "output_type": "execute_result",
          "data": {
            "text/plain": [
              "Text(0.5, 1.0, 'Distribution of sales & rank')"
            ]
          },
          "metadata": {},
          "execution_count": 204
        },
        {
          "output_type": "display_data",
          "data": {
            "image/png": "[encoded data removed]",
            "text/plain": [
              "<Figure size 432x288 with 1 Axes>"
            ]
          },
          "metadata": {}
        }
      ],
      "id": "z7q1U-nuTDOL"
    },
    {
      "cell_type": "markdown",
      "source": [
        "排名 (rank) 前面的商品不見得銷量高，但銷量高的商品的確排名較前面。"
      ],
      "metadata": {
        "id": "27wPEgzyeVLx"
      },
      "id": "27wPEgzyeVLx"
    },
    {
      "cell_type": "code",
      "source": [
        "# ratings v.s. sales\n",
        "g = sns.scatterplot(data = rank_sales, x = 'sales', y = 'avg_rating',\n",
        "                    alpha = 0.6)\n",
        "g.set(xscale = 'log', yscale = 'log')\n",
        "plt.title('Distribution of sales & avg_rating')"
      ],
      "metadata": {
        "colab": {
          "base_uri": "https://localhost:8080/",
          "height": 324
        },
        "id": "UfGoQWAbTFmy",
        "outputId": "5142fd0a-79bb-4b52-ddb4-6340a07ef5aa"
      },
      "execution_count": null,
      "outputs": [
        {
          "output_type": "execute_result",
          "data": {
            "text/plain": [
              "Text(0.5, 1.0, 'Distribution of sales & avg_rating')"
            ]
          },
          "metadata": {},
          "execution_count": 205
        },
        {
          "output_type": "display_data",
          "data": {
            "image/png": "[encoded data removed]",
            "text/plain": [
              "<Figure size 432x288 with 1 Axes>"
            ]
          },
          "metadata": {}
        }
      ],
      "id": "UfGoQWAbTFmy"
    },
    {
      "cell_type": "markdown",
      "source": [
        "銷量 (Sales) 高的商品大多平均評分 (avg_rating) 不會太低，但銷量低的評分 range 就較廣"
      ],
      "metadata": {
        "id": "TDJLsGIfeixk"
      },
      "id": "TDJLsGIfeixk"
    },
    {
      "cell_type": "markdown",
      "source": [
        "### Users"
      ],
      "metadata": {
        "id": "yBDkxdTghr60"
      },
      "id": "yBDkxdTghr60"
    },
    {
      "cell_type": "code",
      "source": [
        "# Average # items purchased per user\n",
        "user_avg_items = ratings_trainings.groupby(by = 'reviewerID')[['overall']].count()\n",
        "user_avg_items.describe()"
      ],
      "metadata": {
        "id": "DqfuxkyvyhbW",
        "colab": {
          "base_uri": "https://localhost:8080/",
          "height": 300
        },
        "outputId": "b9974a2d-486b-4e53-9f91-0399b0a915d6"
      },
      "execution_count": null,
      "outputs": [
        {
          "output_type": "execute_result",
          "data": {
            "text/html": [
              "\n",
              "  <div id=\"df-2ffdde18-0460-4852-9590-916871fe5857\">\n",
              "    <div class=\"colab-df-container\">\n",
              "      <div>\n",
              "<style scoped>\n",
              "    .dataframe tbody tr th:only-of-type {\n",
              "        vertical-align: middle;\n",
              "    }\n",
              "\n",
              "    .dataframe tbody tr th {\n",
              "        vertical-align: top;\n",
              "    }\n",
              "\n",
              "    .dataframe thead th {\n",
              "        text-align: right;\n",
              "    }\n",
              "</style>\n",
              "<table border=\"1\" class=\"dataframe\">\n",
              "  <thead>\n",
              "    <tr style=\"text-align: right;\">\n",
              "      <th></th>\n",
              "      <th>overall</th>\n",
              "    </tr>\n",
              "  </thead>\n",
              "  <tbody>\n",
              "    <tr>\n",
              "      <th>count</th>\n",
              "      <td>314769.00000</td>\n",
              "    </tr>\n",
              "    <tr>\n",
              "      <th>mean</th>\n",
              "      <td>1.14694</td>\n",
              "    </tr>\n",
              "    <tr>\n",
              "      <th>std</th>\n",
              "      <td>0.50756</td>\n",
              "    </tr>\n",
              "    <tr>\n",
              "      <th>min</th>\n",
              "      <td>1.00000</td>\n",
              "    </tr>\n",
              "    <tr>\n",
              "      <th>25%</th>\n",
              "      <td>1.00000</td>\n",
              "    </tr>\n",
              "    <tr>\n",
              "      <th>50%</th>\n",
              "      <td>1.00000</td>\n",
              "    </tr>\n",
              "    <tr>\n",
              "      <th>75%</th>\n",
              "      <td>1.00000</td>\n",
              "    </tr>\n",
              "    <tr>\n",
              "      <th>max</th>\n",
              "      <td>26.00000</td>\n",
              "    </tr>\n",
              "  </tbody>\n",
              "</table>\n",
              "</div>\n",
              "      <button class=\"colab-df-convert\" onclick=\"convertToInteractive('df-2ffdde18-0460-4852-9590-916871fe5857')\"\n",
              "              title=\"Convert this dataframe to an interactive table.\"\n",
              "              style=\"display:none;\">\n",
              "        \n",
              "  <svg xmlns=\"http://www.w3.org/2000/svg\" height=\"24px\"viewBox=\"0 0 24 24\"\n",
              "       width=\"24px\">\n",
              "    <path d=\"M0 0h24v24H0V0z\" fill=\"none\"/>\n",
              "    <path d=\"M18.56 5.44l.94 2.06.94-2.06 2.06-.94-2.06-.94-.94-2.06-.94 2.06-2.06.94zm-11 1L8.5 8.5l.94-2.06 2.06-.94-2.06-.94L8.5 2.5l-.94 2.06-2.06.94zm10 10l.94 2.06.94-2.06 2.06-.94-2.06-.94-.94-2.06-.94 2.06-2.06.94z\"/><path d=\"M17.41 7.96l-1.37-1.37c-.4-.4-.92-.59-1.43-.59-.52 0-1.04.2-1.43.59L10.3 9.45l-7.72 7.72c-.78.78-.78 2.05 0 2.83L4 21.41c.39.39.9.59 1.41.59.51 0 1.02-.2 1.41-.59l7.78-7.78 2.81-2.81c.8-.78.8-2.07 0-2.86zM5.41 20L4 18.59l7.72-7.72 1.47 1.35L5.41 20z\"/>\n",
              "  </svg>\n",
              "      </button>\n",
              "      \n",
              "  <style>\n",
              "    .colab-df-container {\n",
              "      display:flex;\n",
              "      flex-wrap:wrap;\n",
              "      gap: 12px;\n",
              "    }\n",
              "\n",
              "    .colab-df-convert {\n",
              "      background-color: #E8F0FE;\n",
              "      border: none;\n",
              "      border-radius: 50%;\n",
              "      cursor: pointer;\n",
              "      display: none;\n",
              "      fill: #1967D2;\n",
              "      height: 32px;\n",
              "      padding: 0 0 0 0;\n",
              "      width: 32px;\n",
              "    }\n",
              "\n",
              "    .colab-df-convert:hover {\n",
              "      background-color: #E2EBFA;\n",
              "      box-shadow: 0px 1px 2px rgba(60, 64, 67, 0.3), 0px 1px 3px 1px rgba(60, 64, 67, 0.15);\n",
              "      fill: #174EA6;\n",
              "    }\n",
              "\n",
              "    [theme=dark] .colab-df-convert {\n",
              "      background-color: #3B4455;\n",
              "      fill: #D2E3FC;\n",
              "    }\n",
              "\n",
              "    [theme=dark] .colab-df-convert:hover {\n",
              "      background-color: #434B5C;\n",
              "      box-shadow: 0px 1px 3px 1px rgba(0, 0, 0, 0.15);\n",
              "      filter: drop-shadow(0px 1px 2px rgba(0, 0, 0, 0.3));\n",
              "      fill: #FFFFFF;\n",
              "    }\n",
              "  </style>\n",
              "\n",
              "      <script>\n",
              "        const buttonEl =\n",
              "          document.querySelector('#df-2ffdde18-0460-4852-9590-916871fe5857 button.colab-df-convert');\n",
              "        buttonEl.style.display =\n",
              "          google.colab.kernel.accessAllowed ? 'block' : 'none';\n",
              "\n",
              "        async function convertToInteractive(key) {\n",
              "          const element = document.querySelector('#df-2ffdde18-0460-4852-9590-916871fe5857');\n",
              "          const dataTable =\n",
              "            await google.colab.kernel.invokeFunction('convertToInteractive',\n",
              "                                                     [key], {});\n",
              "          if (!dataTable) return;\n",
              "\n",
              "          const docLinkHtml = 'Like what you see? Visit the ' +\n",
              "            '<a target=\"_blank\" href=https://colab.research.google.com/notebooks/data_table.ipynb>data table notebook</a>'\n",
              "            + ' to learn more about interactive tables.';\n",
              "          element.innerHTML = '';\n",
              "          dataTable['output_type'] = 'display_data';\n",
              "          await google.colab.output.renderOutput(dataTable, element);\n",
              "          const docLink = document.createElement('div');\n",
              "          docLink.innerHTML = docLinkHtml;\n",
              "          element.appendChild(docLink);\n",
              "        }\n",
              "      </script>\n",
              "    </div>\n",
              "  </div>\n",
              "  "
            ],
            "text/plain": [
              "            overall\n",
              "count  314769.00000\n",
              "mean        1.14694\n",
              "std         0.50756\n",
              "min         1.00000\n",
              "25%         1.00000\n",
              "50%         1.00000\n",
              "75%         1.00000\n",
              "max        26.00000"
            ]
          },
          "metadata": {},
          "execution_count": 65
        }
      ],
      "id": "DqfuxkyvyhbW"
    },
    {
      "cell_type": "code",
      "source": [
        "print(f'{round((user_avg_items.overall == 1).sum()*100 / user_avg_items.shape[0], 2)}% buyers only purchased once')"
      ],
      "metadata": {
        "colab": {
          "base_uri": "https://localhost:8080/"
        },
        "id": "YTflXDMIsx5Z",
        "outputId": "81b44b37-fead-4c52-87fc-5a27d57d37dc"
      },
      "execution_count": null,
      "outputs": [
        {
          "output_type": "stream",
          "name": "stdout",
          "text": [
            "88.74% buyers only purchased once\n"
          ]
        }
      ],
      "id": "YTflXDMIsx5Z"
    },
    {
      "cell_type": "markdown",
      "source": [
        "### Price"
      ],
      "metadata": {
        "id": "RRwnqkXNhyMP"
      },
      "id": "RRwnqkXNhyMP"
    },
    {
      "cell_type": "code",
      "source": [
        "# Distribution of items' price\n",
        "sns.histplot(data = metadata_clean, x = 'price')\n",
        "plt.xlim(0, 300)\n",
        "plt.title('Distribution of price')"
      ],
      "metadata": {
        "id": "48cIskV3y3ro",
        "colab": {
          "base_uri": "https://localhost:8080/",
          "height": 312
        },
        "outputId": "0137d9ee-0763-46f4-e8b3-4af13b2d5d56"
      },
      "execution_count": null,
      "outputs": [
        {
          "output_type": "execute_result",
          "data": {
            "text/plain": [
              "Text(0.5, 1.0, 'Distribution of price')"
            ]
          },
          "metadata": {},
          "execution_count": 103
        },
        {
          "output_type": "display_data",
          "data": {
            "image/png": "[encoded data removed]",
            "text/plain": [
              "<Figure size 432x288 with 1 Axes>"
            ]
          },
          "metadata": {
            "needs_background": "light"
          }
        }
      ],
      "id": "48cIskV3y3ro"
    },
    {
      "cell_type": "markdown",
      "source": [
        "價格集中在 < 25 USD"
      ],
      "metadata": {
        "id": "yoKNfweLfGav"
      },
      "id": "yoKNfweLfGav"
    },
    {
      "cell_type": "markdown",
      "source": [
        "### Brand"
      ],
      "metadata": {
        "id": "CaLXwRpWhzz_"
      },
      "id": "CaLXwRpWhzz_"
    },
    {
      "cell_type": "code",
      "source": [
        "# Distribution of # items of each brand\n",
        "n_items_brand = metadata_clean.groupby('brand')[['asin']].count()\n",
        "n_items_brand.describe()"
      ],
      "metadata": {
        "colab": {
          "base_uri": "https://localhost:8080/",
          "height": 300
        },
        "id": "Yxd8kH1-46R2",
        "outputId": "c2951e71-8eaa-4bd2-95d9-5a500b9e38b6"
      },
      "execution_count": null,
      "outputs": [
        {
          "output_type": "execute_result",
          "data": {
            "text/html": [
              "\n",
              "  <div id=\"df-30b5eb04-7de7-4316-839d-14cfd18d4e25\">\n",
              "    <div class=\"colab-df-container\">\n",
              "      <div>\n",
              "<style scoped>\n",
              "    .dataframe tbody tr th:only-of-type {\n",
              "        vertical-align: middle;\n",
              "    }\n",
              "\n",
              "    .dataframe tbody tr th {\n",
              "        vertical-align: top;\n",
              "    }\n",
              "\n",
              "    .dataframe thead th {\n",
              "        text-align: right;\n",
              "    }\n",
              "</style>\n",
              "<table border=\"1\" class=\"dataframe\">\n",
              "  <thead>\n",
              "    <tr style=\"text-align: right;\">\n",
              "      <th></th>\n",
              "      <th>asin</th>\n",
              "    </tr>\n",
              "  </thead>\n",
              "  <tbody>\n",
              "    <tr>\n",
              "      <th>count</th>\n",
              "      <td>7734.000000</td>\n",
              "    </tr>\n",
              "    <tr>\n",
              "      <th>mean</th>\n",
              "      <td>2.149858</td>\n",
              "    </tr>\n",
              "    <tr>\n",
              "      <th>std</th>\n",
              "      <td>5.107069</td>\n",
              "    </tr>\n",
              "    <tr>\n",
              "      <th>min</th>\n",
              "      <td>1.000000</td>\n",
              "    </tr>\n",
              "    <tr>\n",
              "      <th>25%</th>\n",
              "      <td>1.000000</td>\n",
              "    </tr>\n",
              "    <tr>\n",
              "      <th>50%</th>\n",
              "      <td>1.000000</td>\n",
              "    </tr>\n",
              "    <tr>\n",
              "      <th>75%</th>\n",
              "      <td>2.000000</td>\n",
              "    </tr>\n",
              "    <tr>\n",
              "      <th>max</th>\n",
              "      <td>252.000000</td>\n",
              "    </tr>\n",
              "  </tbody>\n",
              "</table>\n",
              "</div>\n",
              "      <button class=\"colab-df-convert\" onclick=\"convertToInteractive('df-30b5eb04-7de7-4316-839d-14cfd18d4e25')\"\n",
              "              title=\"Convert this dataframe to an interactive table.\"\n",
              "              style=\"display:none;\">\n",
              "        \n",
              "  <svg xmlns=\"http://www.w3.org/2000/svg\" height=\"24px\"viewBox=\"0 0 24 24\"\n",
              "       width=\"24px\">\n",
              "    <path d=\"M0 0h24v24H0V0z\" fill=\"none\"/>\n",
              "    <path d=\"M18.56 5.44l.94 2.06.94-2.06 2.06-.94-2.06-.94-.94-2.06-.94 2.06-2.06.94zm-11 1L8.5 8.5l.94-2.06 2.06-.94-2.06-.94L8.5 2.5l-.94 2.06-2.06.94zm10 10l.94 2.06.94-2.06 2.06-.94-2.06-.94-.94-2.06-.94 2.06-2.06.94z\"/><path d=\"M17.41 7.96l-1.37-1.37c-.4-.4-.92-.59-1.43-.59-.52 0-1.04.2-1.43.59L10.3 9.45l-7.72 7.72c-.78.78-.78 2.05 0 2.83L4 21.41c.39.39.9.59 1.41.59.51 0 1.02-.2 1.41-.59l7.78-7.78 2.81-2.81c.8-.78.8-2.07 0-2.86zM5.41 20L4 18.59l7.72-7.72 1.47 1.35L5.41 20z\"/>\n",
              "  </svg>\n",
              "      </button>\n",
              "      \n",
              "  <style>\n",
              "    .colab-df-container {\n",
              "      display:flex;\n",
              "      flex-wrap:wrap;\n",
              "      gap: 12px;\n",
              "    }\n",
              "\n",
              "    .colab-df-convert {\n",
              "      background-color: #E8F0FE;\n",
              "      border: none;\n",
              "      border-radius: 50%;\n",
              "      cursor: pointer;\n",
              "      display: none;\n",
              "      fill: #1967D2;\n",
              "      height: 32px;\n",
              "      padding: 0 0 0 0;\n",
              "      width: 32px;\n",
              "    }\n",
              "\n",
              "    .colab-df-convert:hover {\n",
              "      background-color: #E2EBFA;\n",
              "      box-shadow: 0px 1px 2px rgba(60, 64, 67, 0.3), 0px 1px 3px 1px rgba(60, 64, 67, 0.15);\n",
              "      fill: #174EA6;\n",
              "    }\n",
              "\n",
              "    [theme=dark] .colab-df-convert {\n",
              "      background-color: #3B4455;\n",
              "      fill: #D2E3FC;\n",
              "    }\n",
              "\n",
              "    [theme=dark] .colab-df-convert:hover {\n",
              "      background-color: #434B5C;\n",
              "      box-shadow: 0px 1px 3px 1px rgba(0, 0, 0, 0.15);\n",
              "      filter: drop-shadow(0px 1px 2px rgba(0, 0, 0, 0.3));\n",
              "      fill: #FFFFFF;\n",
              "    }\n",
              "  </style>\n",
              "\n",
              "      <script>\n",
              "        const buttonEl =\n",
              "          document.querySelector('#df-30b5eb04-7de7-4316-839d-14cfd18d4e25 button.colab-df-convert');\n",
              "        buttonEl.style.display =\n",
              "          google.colab.kernel.accessAllowed ? 'block' : 'none';\n",
              "\n",
              "        async function convertToInteractive(key) {\n",
              "          const element = document.querySelector('#df-30b5eb04-7de7-4316-839d-14cfd18d4e25');\n",
              "          const dataTable =\n",
              "            await google.colab.kernel.invokeFunction('convertToInteractive',\n",
              "                                                     [key], {});\n",
              "          if (!dataTable) return;\n",
              "\n",
              "          const docLinkHtml = 'Like what you see? Visit the ' +\n",
              "            '<a target=\"_blank\" href=https://colab.research.google.com/notebooks/data_table.ipynb>data table notebook</a>'\n",
              "            + ' to learn more about interactive tables.';\n",
              "          element.innerHTML = '';\n",
              "          dataTable['output_type'] = 'display_data';\n",
              "          await google.colab.output.renderOutput(dataTable, element);\n",
              "          const docLink = document.createElement('div');\n",
              "          docLink.innerHTML = docLinkHtml;\n",
              "          element.appendChild(docLink);\n",
              "        }\n",
              "      </script>\n",
              "    </div>\n",
              "  </div>\n",
              "  "
            ],
            "text/plain": [
              "              asin\n",
              "count  7734.000000\n",
              "mean      2.149858\n",
              "std       5.107069\n",
              "min       1.000000\n",
              "25%       1.000000\n",
              "50%       1.000000\n",
              "75%       2.000000\n",
              "max     252.000000"
            ]
          },
          "metadata": {},
          "execution_count": 208
        }
      ],
      "id": "Yxd8kH1-46R2"
    },
    {
      "cell_type": "code",
      "source": [
        "print(f'{round((n_items_brand.asin == 1).sum()*100 / n_items_brand.shape[0], 2)}% brands have only one product')\n",
        "print(f'{round((n_items_brand.asin < 5).sum()*100 / n_items_brand.shape[0], 2)}% brands have < 5 products')"
      ],
      "metadata": {
        "colab": {
          "base_uri": "https://localhost:8080/"
        },
        "id": "JsoT_GotfZa4",
        "outputId": "210c4563-b2b7-42fc-9774-cb35757c70b2"
      },
      "execution_count": null,
      "outputs": [
        {
          "output_type": "stream",
          "name": "stdout",
          "text": [
            "70.83% brands have only one product\n",
            "92.5% brands have < 5 products\n"
          ]
        }
      ],
      "id": "JsoT_GotfZa4"
    },
    {
      "cell_type": "markdown",
      "metadata": {
        "id": "7CcI_LFdzA4z"
      },
      "source": [
        "## 產生推薦"
      ],
      "id": "7CcI_LFdzA4z"
    },
    {
      "cell_type": "markdown",
      "source": [
        "### Rule1: Last year top seller products"
      ],
      "metadata": {
        "id": "MWmGsZ10dB_u"
      },
      "id": "MWmGsZ10dB_u"
    },
    {
      "cell_type": "code",
      "source": [
        "def recommender_topseller_year(training_data, users=[], k=10):\n",
        "    '''\n",
        "    * training_data: dataframe 輸入的訓練資料集（2018-09-01 以前資料）\n",
        "    * users: [] 需要被推薦的使用者\n",
        "    * k: int 每個使用者需要推薦的商品數\n",
        "    * recommendations: dict\n",
        "      {\n",
        "          使用者一： [推薦商品一, 推薦商品二, ...],\n",
        "          使用者二： [...], ...\n",
        "      }\n",
        "    '''\n",
        "    recommendations = {}\n",
        "    ## Best seller (by rating data) & highest rating products (recommand `k` product)\n",
        "    products_rating = training_data[training_data.DATE >= '2017-09-01'].groupby('asin')[['overall']].agg(['mean', 'count'])\n",
        "    products_rating.columns = products_rating.columns.droplevel(0)\n",
        "    best_seller_lst = products_rating.sort_values(by = ['count', 'mean'], ascending = False).index.tolist()[:k]\n",
        "\n",
        "    recommendations = {user: best_seller_lst for user in users}\n",
        "    return recommendations\n",
        "\n",
        "ratings_by_user_topseller_year = recommender_topseller_year(ratings_trainings, users)\n",
        "# ratings_by_user_topseller_year"
      ],
      "metadata": {
        "id": "3SGtVtfndBu1"
      },
      "execution_count": 38,
      "outputs": [],
      "id": "3SGtVtfndBu1"
    },
    {
      "cell_type": "markdown",
      "source": [
        "### Rule2: Last month top seller products"
      ],
      "metadata": {
        "id": "314KWZjwyQaq"
      },
      "id": "314KWZjwyQaq"
    },
    {
      "cell_type": "code",
      "source": [
        "def recommender_topseller_month(training_data, users=[], k=10):\n",
        "    '''\n",
        "    * training_data: dataframe 輸入的訓練資料集（2018-09-01 以前資料）\n",
        "    * users: [] 需要被推薦的使用者\n",
        "    * k: int 每個使用者需要推薦的商品數\n",
        "    * recommendations: dict\n",
        "      {\n",
        "          使用者一： [推薦商品一, 推薦商品二, ...],\n",
        "          使用者二： [...], ...\n",
        "      }\n",
        "    '''\n",
        "    recommendations = {}\n",
        "    ## Best seller (by rating data) & highest rating products (recommand `k` product)\n",
        "    products_rating = training_data[training_data.DATE >= '2018-08-01'].groupby('asin')[['overall']].agg(['mean', 'count'])\n",
        "    products_rating.columns = products_rating.columns.droplevel(0)\n",
        "    best_seller_lst = products_rating.reset_index().sort_values(by = ['count', 'mean'], ascending = False).iloc[:k, 0].tolist()\n",
        "\n",
        "    recommendations = {user: best_seller_lst for user in users}\n",
        "\n",
        "    return recommendations\n",
        "\n",
        "ratings_by_user_topseller_month = recommender_topseller_month(ratings_trainings, users)"
      ],
      "metadata": {
        "id": "2jLCETznyUvM"
      },
      "execution_count": 40,
      "outputs": [],
      "id": "2jLCETznyUvM"
    },
    {
      "cell_type": "markdown",
      "source": [
        "### Rule3: Last year order history + rank + rating + topseller"
      ],
      "metadata": {
        "id": "UlIqCYQtpK9y"
      },
      "id": "UlIqCYQtpK9y"
    },
    {
      "cell_type": "markdown",
      "source": [
        "- excluding products whose avg_rating < 3 \n",
        "- if purchased, at most 50% recommanded items are based on purchased items: \n",
        "    - using variables: `also_view`, `also_buy`\n",
        "    - by rating_data, check if others users review this purchased items and others items \n",
        "    - same brand\n",
        "- if purchased, the other 50% / if not purchased, all the recommanded items:\n",
        "    - 20% for the highest ranking items\n",
        "    - 80% for the topsellers"
      ],
      "metadata": {
        "id": "CmELBxNspWaf"
      },
      "id": "CmELBxNspWaf"
    },
    {
      "cell_type": "code",
      "source": [
        "def recommender_year(training_data, users=[], k=10):\n",
        "    '''\n",
        "    * training_data: dataframe 輸入的訓練資料集（2018-09-01 以前資料）\n",
        "    * users: [] 需要被推薦的使用者\n",
        "    * k: int 每個使用者需要推薦的商品數\n",
        "    * recommendations: dict\n",
        "      {\n",
        "          使用者一： [推薦商品一, 推薦商品二, ...],\n",
        "          使用者二： [...], ...\n",
        "      }\n",
        "    '''\n",
        "    training_data = training_data[training_data.DATE >= '2017-09-01'].copy()\n",
        "    recommendations = {}\n",
        "\n",
        "    ## Highest rank\n",
        "    highest_ranking_lst = metadata_clean.sort_values(by = 'rank_num')['asin'].tolist()\n",
        "\n",
        "    ## Excluding lowest rating products \n",
        "    products_rating = training_data.groupby('asin')[['overall']].agg(['mean', 'count'])\n",
        "    products_rating.columns = products_rating.columns.droplevel(0)\n",
        "    lowest_rating_lst = products_rating[products_rating['mean'] < 3].index.tolist()\n",
        "    # products_rating.reset_index().sort_values(by = ['mean', 'count'], ascending = True)['asin'].tolist()\n",
        "\n",
        "    ## Best seller (by rating data) & highest rating products\n",
        "    best_seller_lst = products_rating.reset_index().sort_values(by = ['count', 'mean'], ascending = False)['asin'].tolist()\n",
        "\n",
        "    for u in users:\n",
        "        # purchased before\n",
        "        user_recom = []\n",
        "\n",
        "        if u in training_data['reviewerID'].values:\n",
        "            \n",
        "            # recommand `k1` products\n",
        "            k1 = min(sum(training_data.reviewerID == u) * 3, 5)\n",
        "            items_purchase = training_data.loc[training_data.reviewerID == u, 'asin'].values\n",
        "            \n",
        "            for i in items_purchase:\n",
        "\n",
        "                # item i's `also_buy` \n",
        "                also_buy_lst = metadata_clean.loc[metadata_clean.asin == i, 'also_buy'].values[0]\n",
        "                user_recom += also_buy_lst\n",
        "                \n",
        "                # item i's `also_view`\n",
        "                also_view_lst = metadata_clean.loc[metadata_clean.asin == i, 'also_view'].values[0]\n",
        "                user_recom += also_view_lst\n",
        "                \n",
        "                # items that others user who review item i also review (by rating data)\n",
        "                also_review_users_lst = training_data.loc[(training_data.asin == i) & (training_data.reviewerID != u), 'reviewerID'].unique()\n",
        "                also_review_items_lst = training_data.loc[(training_data.reviewerID.isin(also_review_users_lst)) & (training_data.asin != i), 'asin'].tolist()\n",
        "                user_recom += also_review_items_lst\n",
        "\n",
        "                # same brand \n",
        "                item_brand = metadata_clean.loc[metadata_clean.asin == i, 'brand'].values[0]\n",
        "                # print(item_brand)\n",
        "                # print(pd.isnull(item_brand))\n",
        "                if pd.isnull(item_brand):\n",
        "                    smae_brand_lst = metadata_clean.loc[metadata_clean.brand == item_brand, 'asin'].tolist()\n",
        "                    user_recom += smae_brand_lst\n",
        "\n",
        "                # at most k1 items from purchase history\n",
        "                user_recom = user_recom[:k1]\n",
        "        else:\n",
        "            k1 = 0\n",
        "        \n",
        "        # Popular products (recommand `k_left` products)\n",
        "        k_left = k - len(user_recom)\n",
        "        k2 = round(k_left * 0.2)\n",
        "\n",
        "        # concat all the item lists (k2 by rank, k3 by rating, others by sales)\n",
        "        user_recom = user_recom + highest_ranking_lst[:k2] + best_seller_lst\n",
        "        \n",
        "        user_recom_k = []\n",
        "        for p in user_recom:\n",
        "            if p not in lowest_rating_lst:\n",
        "                user_recom_k.append(p)\n",
        "                if len(user_recom_k) >= 10:\n",
        "                    break\n",
        "        # user_recom = [i for i in user_recom if i not in lowest_rating_lst][:k]\n",
        "        recommendations[u] = user_recom_k\n",
        "    \n",
        "    return recommendations\n",
        "\n",
        "ratings_by_user_year = recommender_year(ratings_trainings, users)"
      ],
      "metadata": {
        "id": "O7LgL4fHjNcE"
      },
      "execution_count": 52,
      "outputs": [],
      "id": "O7LgL4fHjNcE"
    },
    {
      "cell_type": "markdown",
      "source": [
        "### Rule4: Last month order history + rank + rating + topseller"
      ],
      "metadata": {
        "id": "1Sr-6BTpd76U"
      },
      "id": "1Sr-6BTpd76U"
    },
    {
      "cell_type": "code",
      "source": [
        "def recommender_month(training_data, users=[], k=10):\n",
        "    '''\n",
        "    * training_data: dataframe 輸入的訓練資料集（2018-09-01 以前資料）\n",
        "    * users: [] 需要被推薦的使用者\n",
        "    * k: int 每個使用者需要推薦的商品數\n",
        "    * recommendations: dict\n",
        "      {\n",
        "          使用者一： [推薦商品一, 推薦商品二, ...],\n",
        "          使用者二： [...], ...\n",
        "      }\n",
        "    '''\n",
        "    training_data = training_data[training_data.DATE >= '2018-08-01'].copy()\n",
        "    recommendations = {}\n",
        "\n",
        "    ## Highest rank\n",
        "    highest_ranking_lst = metadata_clean.sort_values(by = 'rank_num')['asin'].tolist()\n",
        "\n",
        "    ## Excluding lowest rating products \n",
        "    products_rating = training_data.groupby('asin')[['overall']].agg(['mean', 'count'])\n",
        "    products_rating.columns = products_rating.columns.droplevel(0)\n",
        "    lowest_rating_lst = products_rating[products_rating['mean'] < 3].index.tolist()\n",
        "\n",
        "    ## Best seller (by rating data) & highest rating products\n",
        "    best_seller_lst = products_rating.reset_index().sort_values(by = ['count', 'mean'], ascending = False)['asin'].tolist()\n",
        "\n",
        "    for u in users:\n",
        "        # purchased before\n",
        "        user_recom = []\n",
        "\n",
        "        if u in training_data['reviewerID'].values:\n",
        "            \n",
        "            # recommand `k1` products\n",
        "            k1 = min(sum(training_data.reviewerID == u) * 3, 5)\n",
        "            items_purchase = training_data.loc[training_data.reviewerID == u, 'asin'].values\n",
        "            \n",
        "            for i in items_purchase:\n",
        "\n",
        "                # item i's `also_buy` \n",
        "                also_buy_lst = metadata_clean.loc[metadata_clean.asin == i, 'also_buy'].values[0]\n",
        "                user_recom += also_buy_lst\n",
        "                \n",
        "                # item i's `also_view`\n",
        "                also_view_lst = metadata_clean.loc[metadata_clean.asin == i, 'also_view'].values[0]\n",
        "                user_recom += also_view_lst\n",
        "                \n",
        "                # items that others user who review item i also review (by rating data)\n",
        "                also_review_users_lst = training_data.loc[(training_data.asin == i) & (training_data.reviewerID != u), 'reviewerID'].unique()\n",
        "                also_review_items_lst = training_data.loc[(training_data.reviewerID.isin(also_review_users_lst)) & (training_data.asin != i), 'asin'].tolist()\n",
        "                user_recom += also_review_items_lst\n",
        "\n",
        "                # same brand \n",
        "                item_brand = metadata_clean.loc[metadata_clean.asin == i, 'brand'].values[0]\n",
        "                # print(item_brand)\n",
        "                # print(pd.isnull(item_brand))\n",
        "                if pd.isnull(item_brand):\n",
        "                    smae_brand_lst = metadata_clean.loc[metadata_clean.brand == item_brand, 'asin'].tolist()\n",
        "                    user_recom += smae_brand_lst\n",
        "\n",
        "                # at most k1 items from purchase history\n",
        "                user_recom = user_recom[:k1]\n",
        "        else:\n",
        "            k1 = 0\n",
        "        \n",
        "        # Popular products (recommand `k_left` products)\n",
        "        k_left = k - len(user_recom)\n",
        "        k2 = round(k_left * 0.2)\n",
        "\n",
        "        # concat all the item lists (k2 by rank, k3 by rating, others by sales)\n",
        "        user_recom = user_recom + highest_ranking_lst[:k2] + best_seller_lst\n",
        "        \n",
        "        user_recom_k = []\n",
        "        for p in user_recom:\n",
        "            if p not in lowest_rating_lst:\n",
        "                user_recom_k.append(p)\n",
        "                if len(user_recom_k) >= 10:\n",
        "                    break\n",
        "        # user_recom = [i for i in user_recom if i not in lowest_rating_lst][:k]\n",
        "        recommendations[u] = user_recom_k\n",
        "    \n",
        "    return recommendations\n",
        "\n",
        "ratings_by_user_month = recommender_month(ratings_trainings, users)"
      ],
      "metadata": {
        "id": "CNQcKwXHnJFO"
      },
      "execution_count": 42,
      "outputs": [],
      "id": "CNQcKwXHnJFO"
    },
    {
      "cell_type": "markdown",
      "metadata": {
        "id": "ki1tlxS1zA40"
      },
      "source": [
        "## 結果評估"
      ],
      "id": "ki1tlxS1zA40"
    },
    {
      "cell_type": "code",
      "execution_count": 43,
      "metadata": {
        "id": "Mq4YofwLzA40"
      },
      "outputs": [],
      "source": [
        "def evaluate(ratings_testings_by_user={}, ratings_by_user={}, method=None):\n",
        "    '''\n",
        "    * ratings_testings_by_user: dict 真實被購買的商品資料（2018-09-01 以後資料）\n",
        "    * ratings_by_user: dict 利用訓練資料學習的推薦商品\n",
        "    * method: str\n",
        "    * score: float\n",
        "    '''\n",
        "    total = 0\n",
        "    for d in ratings_testings_by_user:\n",
        "        if d in ratings_by_user:\n",
        "            total += len(set(ratings_by_user[d]) & set(ratings_testings_by_user[d]))\n",
        "\n",
        "    score = total / len(ratings_testings)\n",
        "    return score"
      ],
      "id": "Mq4YofwLzA40"
    },
    {
      "cell_type": "code",
      "source": [
        "# last year topseller\n",
        "print(f'Rule1: \\n{round(evaluate(ratings_testings_by_user, ratings_by_user_topseller_year), 4)}')"
      ],
      "metadata": {
        "colab": {
          "base_uri": "https://localhost:8080/"
        },
        "id": "PD9WZ7TStnZb",
        "outputId": "cd533266-6301-4a38-a15d-6781667d48f5"
      },
      "execution_count": 44,
      "outputs": [
        {
          "output_type": "stream",
          "name": "stdout",
          "text": [
            "Rule1: \n",
            "0.0983\n"
          ]
        }
      ],
      "id": "PD9WZ7TStnZb"
    },
    {
      "cell_type": "code",
      "source": [
        "# last month topseller\n",
        "print(f'Rule2: \\n{round(evaluate(ratings_testings_by_user, ratings_by_user_topseller_month), 4)}')\n"
      ],
      "metadata": {
        "colab": {
          "base_uri": "https://localhost:8080/"
        },
        "id": "lH3xC3NMds4e",
        "outputId": "e6f69ae2-fc39-43a5-da3b-7ba30836ee46"
      },
      "execution_count": 45,
      "outputs": [
        {
          "output_type": "stream",
          "name": "stdout",
          "text": [
            "Rule2: \n",
            "0.1576\n"
          ]
        }
      ],
      "id": "lH3xC3NMds4e"
    },
    {
      "cell_type": "code",
      "source": [
        "# Last year data: \n",
        "## At most 50% by order history (basket analysis)\n",
        "## Others: 10% by product ranking, 20% by product rating & sales, 60% by sales\n",
        "print(f'Rule3: \\n{round(evaluate(ratings_testings_by_user, ratings_by_user_year), 4)}')"
      ],
      "metadata": {
        "colab": {
          "base_uri": "https://localhost:8080/"
        },
        "id": "bJ3M8zf7oTvj",
        "outputId": "5ed1fa81-1b73-493e-c573-5a72fa4140ba"
      },
      "execution_count": 53,
      "outputs": [
        {
          "output_type": "stream",
          "name": "stdout",
          "text": [
            "Rule3: \n",
            "0.0983\n"
          ]
        }
      ],
      "id": "bJ3M8zf7oTvj"
    },
    {
      "cell_type": "code",
      "source": [
        "# Last month data: \n",
        "## At most 50% by order history (basket analysis)\n",
        "## Others: 10% by product ranking, 20% by product rating & sales, 60% by sales\n",
        "print(f'Rule4: \\n{round(evaluate(ratings_testings_by_user, ratings_by_user_month), 4)}')"
      ],
      "metadata": {
        "colab": {
          "base_uri": "https://localhost:8080/"
        },
        "id": "ODSkj55Yto4W",
        "outputId": "c3dc74b7-a4d1-4464-9303-e51c33c44f93"
      },
      "execution_count": 49,
      "outputs": [
        {
          "output_type": "stream",
          "name": "stdout",
          "text": [
            "Rule4: \n",
            "0.1356\n"
          ]
        }
      ],
      "id": "ODSkj55Yto4W"
    },
    {
      "cell_type": "code",
      "source": [
        "# # users in testing data appeared in training data\n",
        "print(sum([u in ratings_trainings.asin.values for u in users] ))"
      ],
      "metadata": {
        "colab": {
          "base_uri": "https://localhost:8080/"
        },
        "id": "8OTrXcZvqyPn",
        "outputId": "4ffc1522-ff94-4b06-d9fc-548632d8d423"
      },
      "execution_count": 54,
      "outputs": [
        {
          "output_type": "stream",
          "name": "stdout",
          "text": [
            "0\n"
          ]
        }
      ],
      "id": "8OTrXcZvqyPn"
    },
    {
      "cell_type": "code",
      "source": [
        ""
      ],
      "metadata": {
        "id": "Ndec_svC41-C"
      },
      "id": "Ndec_svC41-C",
      "execution_count": null,
      "outputs": []
    }
  ],
  "metadata": {
    "kernelspec": {
      "display_name": "Python 3",
      "language": "python",
      "name": "python3"
    },
    "language_info": {
      "codemirror_mode": {
        "name": "ipython",
        "version": 3
      },
      "file_extension": ".py",
      "mimetype": "text/x-python",
      "name": "python",
      "nbconvert_exporter": "python",
      "pygments_lexer": "ipython3",
      "version": "3.6.5"
    },
    "colab": {
      "name": "sample.ipynb",
      "provenance": [],
      "toc_visible": true
    }
  },
  "nbformat": 4,
  "nbformat_minor": 5
}